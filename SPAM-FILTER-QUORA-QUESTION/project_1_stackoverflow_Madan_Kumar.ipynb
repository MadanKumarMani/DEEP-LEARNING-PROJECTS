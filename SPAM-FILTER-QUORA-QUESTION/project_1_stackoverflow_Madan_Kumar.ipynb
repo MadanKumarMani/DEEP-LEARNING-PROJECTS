{
  "nbformat": 4,
  "nbformat_minor": 0,
  "metadata": {
    "colab": {
      "name": "project 1 stackoverflow Madan Kumar ",
      "provenance": [],
      "collapsed_sections": []
    },
    "kernelspec": {
      "name": "python3",
      "display_name": "Python 3"
    }
  },
  "cells": [
    {
      "cell_type": "code",
      "metadata": {
        "id": "PlbvnwFjw1S7"
      },
      "source": [
        "%tensorflow_version 2.x\n"
      ],
      "execution_count": 2,
      "outputs": []
    },
    {
      "cell_type": "code",
      "metadata": {
        "id": "ncvr6oV-wt7p"
      },
      "source": [
        "\n",
        "import pandas as pd\n",
        "import numpy as np\n",
        "import warnings\n",
        "warnings.filterwarnings('ignore')"
      ],
      "execution_count": 3,
      "outputs": []
    },
    {
      "cell_type": "code",
      "metadata": {
        "colab": {
          "base_uri": "https://localhost:8080/"
        },
        "id": "47ARAUXEwsaO",
        "outputId": "09587d1a-19bb-44d4-b2c4-42ea41bd3869"
      },
      "source": [
        "!wget https://www.dropbox.com/s/5721wcs2guuykzl/stacksample.zip?dl=0\n"
      ],
      "execution_count": 1,
      "outputs": [
        {
          "output_type": "stream",
          "text": [
            "--2020-11-30 10:47:03--  https://www.dropbox.com/s/5721wcs2guuykzl/stacksample.zip?dl=0\n",
            "Resolving www.dropbox.com (www.dropbox.com)... 162.125.9.1, 2620:100:601f:1::a27d:901\n",
            "Connecting to www.dropbox.com (www.dropbox.com)|162.125.9.1|:443... connected.\n",
            "HTTP request sent, awaiting response... 301 Moved Permanently\n",
            "Location: /s/raw/5721wcs2guuykzl/stacksample.zip [following]\n",
            "--2020-11-30 10:47:04--  https://www.dropbox.com/s/raw/5721wcs2guuykzl/stacksample.zip\n",
            "Reusing existing connection to www.dropbox.com:443.\n",
            "HTTP request sent, awaiting response... 302 Found\n",
            "Location: https://ucfc52d41251e7a4602939adac01.dl.dropboxusercontent.com/cd/0/inline/BEK1bhiIPQ5R1Q-zxvH2oXEBfGpYqX6HQxuUT0xj5y_JjaKetmcMmx5DxKHBNXzlFkSgW_9Hng8xwhfyG4NQFSSywJ6pzeFubdu0A_OEjfT0jw/file# [following]\n",
            "--2020-11-30 10:47:04--  https://ucfc52d41251e7a4602939adac01.dl.dropboxusercontent.com/cd/0/inline/BEK1bhiIPQ5R1Q-zxvH2oXEBfGpYqX6HQxuUT0xj5y_JjaKetmcMmx5DxKHBNXzlFkSgW_9Hng8xwhfyG4NQFSSywJ6pzeFubdu0A_OEjfT0jw/file\n",
            "Resolving ucfc52d41251e7a4602939adac01.dl.dropboxusercontent.com (ucfc52d41251e7a4602939adac01.dl.dropboxusercontent.com)... 162.125.5.15, 2620:100:601f:15::a27d:90f\n",
            "Connecting to ucfc52d41251e7a4602939adac01.dl.dropboxusercontent.com (ucfc52d41251e7a4602939adac01.dl.dropboxusercontent.com)|162.125.5.15|:443... connected.\n",
            "HTTP request sent, awaiting response... 302 Found\n",
            "Location: /cd/0/inline2/BEKcrM2STzC8FFQsa65x7QW90eysuGqMPYAOceCxnbqQr-FD2EQeSRtJqKJGv3wNvqHJmr7J_6RgCSYeAiMViHvj_eee5wa3UcbNUzYgvRYxjRbazQn8IfxBvIZlBYe75ExjZX3Te7oVgndzeNbbs1fWVmj1NzUm5Dx-n0Zyd_5YPNCcsbgz2MxWPvaVOOZzdg_FpSjIj1g_LwJpVo5OW8Jzpvs89zOjH8CtWzSo8B2TM85FByawVGTqlQxhoZ7J0jPpaunAJHCQXUKe93Pf8O4tsD19CIDyfB0WhmpUIWxgdYUSGaueuFgHRl2ZscYcpDCiaPUZkYIE_-9QA1sz3Dl_/file [following]\n",
            "--2020-11-30 10:47:05--  https://ucfc52d41251e7a4602939adac01.dl.dropboxusercontent.com/cd/0/inline2/BEKcrM2STzC8FFQsa65x7QW90eysuGqMPYAOceCxnbqQr-FD2EQeSRtJqKJGv3wNvqHJmr7J_6RgCSYeAiMViHvj_eee5wa3UcbNUzYgvRYxjRbazQn8IfxBvIZlBYe75ExjZX3Te7oVgndzeNbbs1fWVmj1NzUm5Dx-n0Zyd_5YPNCcsbgz2MxWPvaVOOZzdg_FpSjIj1g_LwJpVo5OW8Jzpvs89zOjH8CtWzSo8B2TM85FByawVGTqlQxhoZ7J0jPpaunAJHCQXUKe93Pf8O4tsD19CIDyfB0WhmpUIWxgdYUSGaueuFgHRl2ZscYcpDCiaPUZkYIE_-9QA1sz3Dl_/file\n",
            "Reusing existing connection to ucfc52d41251e7a4602939adac01.dl.dropboxusercontent.com:443.\n",
            "HTTP request sent, awaiting response... 200 OK\n",
            "Length: 1231288519 (1.1G) [application/zip]\n",
            "Saving to: ‘stacksample.zip?dl=0’\n",
            "\n",
            "stacksample.zip?dl= 100%[===================>]   1.15G  55.9MB/s    in 21s     \n",
            "\n",
            "2020-11-30 10:47:27 (55.4 MB/s) - ‘stacksample.zip?dl=0’ saved [1231288519/1231288519]\n",
            "\n"
          ],
          "name": "stdout"
        }
      ]
    },
    {
      "cell_type": "code",
      "metadata": {
        "colab": {
          "base_uri": "https://localhost:8080/"
        },
        "id": "oCqBJbbBw7Sn",
        "outputId": "601fe036-ed9c-407c-e9ac-934b432cdc36"
      },
      "source": [
        "!unzip '/content/stacksample.zip?dl=0'\n"
      ],
      "execution_count": 4,
      "outputs": [
        {
          "output_type": "stream",
          "text": [
            "Archive:  /content/stacksample.zip?dl=0\n",
            "  inflating: Answers.csv             \n",
            "  inflating: Questions.csv           \n",
            "  inflating: Tags.csv                \n"
          ],
          "name": "stdout"
        }
      ]
    },
    {
      "cell_type": "code",
      "metadata": {
        "id": "xY2hYwccxD-G"
      },
      "source": [
        "\n",
        "questions = r'/content/Questions.csv'\n",
        "answers = r'/content/Answers.csv'\n",
        "tags = r'/content/Tags.csv'"
      ],
      "execution_count": 5,
      "outputs": []
    },
    {
      "cell_type": "code",
      "metadata": {
        "id": "mKhqa25gxOkO"
      },
      "source": [
        "questions_data = pd.read_csv(questions,encoding ='latin 1' )\n",
        "answers_data = pd.read_csv(answers,encoding ='latin 1')\n",
        "tags_data = pd.read_csv(tags,encoding ='latin 1')"
      ],
      "execution_count": 6,
      "outputs": []
    },
    {
      "cell_type": "code",
      "metadata": {
        "colab": {
          "base_uri": "https://localhost:8080/",
          "height": 111
        },
        "id": "5fAFkbkpxP3E",
        "outputId": "d08c143b-704b-4201-9f93-a8b8db97b612"
      },
      "source": [
        "questions_data.head(n=2)\n"
      ],
      "execution_count": 7,
      "outputs": [
        {
          "output_type": "execute_result",
          "data": {
            "text/html": [
              "<div>\n",
              "<style scoped>\n",
              "    .dataframe tbody tr th:only-of-type {\n",
              "        vertical-align: middle;\n",
              "    }\n",
              "\n",
              "    .dataframe tbody tr th {\n",
              "        vertical-align: top;\n",
              "    }\n",
              "\n",
              "    .dataframe thead th {\n",
              "        text-align: right;\n",
              "    }\n",
              "</style>\n",
              "<table border=\"1\" class=\"dataframe\">\n",
              "  <thead>\n",
              "    <tr style=\"text-align: right;\">\n",
              "      <th></th>\n",
              "      <th>Id</th>\n",
              "      <th>OwnerUserId</th>\n",
              "      <th>CreationDate</th>\n",
              "      <th>ClosedDate</th>\n",
              "      <th>Score</th>\n",
              "      <th>Title</th>\n",
              "      <th>Body</th>\n",
              "    </tr>\n",
              "  </thead>\n",
              "  <tbody>\n",
              "    <tr>\n",
              "      <th>0</th>\n",
              "      <td>80</td>\n",
              "      <td>26.0</td>\n",
              "      <td>2008-08-01T13:57:07Z</td>\n",
              "      <td>NaN</td>\n",
              "      <td>26</td>\n",
              "      <td>SQLStatement.execute() - multiple queries in o...</td>\n",
              "      <td>&lt;p&gt;I've written a database generation script i...</td>\n",
              "    </tr>\n",
              "    <tr>\n",
              "      <th>1</th>\n",
              "      <td>90</td>\n",
              "      <td>58.0</td>\n",
              "      <td>2008-08-01T14:41:24Z</td>\n",
              "      <td>2012-12-26T03:45:49Z</td>\n",
              "      <td>144</td>\n",
              "      <td>Good branching and merging tutorials for Torto...</td>\n",
              "      <td>&lt;p&gt;Are there any really good tutorials explain...</td>\n",
              "    </tr>\n",
              "  </tbody>\n",
              "</table>\n",
              "</div>"
            ],
            "text/plain": [
              "   Id  ...                                               Body\n",
              "0  80  ...  <p>I've written a database generation script i...\n",
              "1  90  ...  <p>Are there any really good tutorials explain...\n",
              "\n",
              "[2 rows x 7 columns]"
            ]
          },
          "metadata": {
            "tags": []
          },
          "execution_count": 7
        }
      ]
    },
    {
      "cell_type": "code",
      "metadata": {
        "colab": {
          "base_uri": "https://localhost:8080/",
          "height": 111
        },
        "id": "gIOKOx3bxTTm",
        "outputId": "b0872997-937d-455a-f357-a17ba53aa651"
      },
      "source": [
        "tags_data.head(2)\n"
      ],
      "execution_count": 8,
      "outputs": [
        {
          "output_type": "execute_result",
          "data": {
            "text/html": [
              "<div>\n",
              "<style scoped>\n",
              "    .dataframe tbody tr th:only-of-type {\n",
              "        vertical-align: middle;\n",
              "    }\n",
              "\n",
              "    .dataframe tbody tr th {\n",
              "        vertical-align: top;\n",
              "    }\n",
              "\n",
              "    .dataframe thead th {\n",
              "        text-align: right;\n",
              "    }\n",
              "</style>\n",
              "<table border=\"1\" class=\"dataframe\">\n",
              "  <thead>\n",
              "    <tr style=\"text-align: right;\">\n",
              "      <th></th>\n",
              "      <th>Id</th>\n",
              "      <th>Tag</th>\n",
              "    </tr>\n",
              "  </thead>\n",
              "  <tbody>\n",
              "    <tr>\n",
              "      <th>0</th>\n",
              "      <td>80</td>\n",
              "      <td>flex</td>\n",
              "    </tr>\n",
              "    <tr>\n",
              "      <th>1</th>\n",
              "      <td>80</td>\n",
              "      <td>actionscript-3</td>\n",
              "    </tr>\n",
              "  </tbody>\n",
              "</table>\n",
              "</div>"
            ],
            "text/plain": [
              "   Id             Tag\n",
              "0  80            flex\n",
              "1  80  actionscript-3"
            ]
          },
          "metadata": {
            "tags": []
          },
          "execution_count": 8
        }
      ]
    },
    {
      "cell_type": "code",
      "metadata": {
        "id": "tIYysvZjxXzN"
      },
      "source": [
        "grouped_tags = tags_data.groupby(\"Tag\", sort='count').size().reset_index(name='count')\n"
      ],
      "execution_count": 9,
      "outputs": []
    },
    {
      "cell_type": "code",
      "metadata": {
        "colab": {
          "base_uri": "https://localhost:8080/",
          "height": 419
        },
        "id": "nyPNX7kwxbcE",
        "outputId": "10859644-c590-466e-e5ea-145eb68ebc85"
      },
      "source": [
        "grouped_tags\n"
      ],
      "execution_count": 10,
      "outputs": [
        {
          "output_type": "execute_result",
          "data": {
            "text/html": [
              "<div>\n",
              "<style scoped>\n",
              "    .dataframe tbody tr th:only-of-type {\n",
              "        vertical-align: middle;\n",
              "    }\n",
              "\n",
              "    .dataframe tbody tr th {\n",
              "        vertical-align: top;\n",
              "    }\n",
              "\n",
              "    .dataframe thead th {\n",
              "        text-align: right;\n",
              "    }\n",
              "</style>\n",
              "<table border=\"1\" class=\"dataframe\">\n",
              "  <thead>\n",
              "    <tr style=\"text-align: right;\">\n",
              "      <th></th>\n",
              "      <th>Tag</th>\n",
              "      <th>count</th>\n",
              "    </tr>\n",
              "  </thead>\n",
              "  <tbody>\n",
              "    <tr>\n",
              "      <th>0</th>\n",
              "      <td>.a</td>\n",
              "      <td>13</td>\n",
              "    </tr>\n",
              "    <tr>\n",
              "      <th>1</th>\n",
              "      <td>.app</td>\n",
              "      <td>14</td>\n",
              "    </tr>\n",
              "    <tr>\n",
              "      <th>2</th>\n",
              "      <td>.aspxauth</td>\n",
              "      <td>6</td>\n",
              "    </tr>\n",
              "    <tr>\n",
              "      <th>3</th>\n",
              "      <td>.bash-profile</td>\n",
              "      <td>46</td>\n",
              "    </tr>\n",
              "    <tr>\n",
              "      <th>4</th>\n",
              "      <td>.class-file</td>\n",
              "      <td>19</td>\n",
              "    </tr>\n",
              "    <tr>\n",
              "      <th>...</th>\n",
              "      <td>...</td>\n",
              "      <td>...</td>\n",
              "    </tr>\n",
              "    <tr>\n",
              "      <th>37029</th>\n",
              "      <td>zwoptex</td>\n",
              "      <td>3</td>\n",
              "    </tr>\n",
              "    <tr>\n",
              "      <th>37030</th>\n",
              "      <td>zxing</td>\n",
              "      <td>159</td>\n",
              "    </tr>\n",
              "    <tr>\n",
              "      <th>37031</th>\n",
              "      <td>zxspectrum</td>\n",
              "      <td>1</td>\n",
              "    </tr>\n",
              "    <tr>\n",
              "      <th>37032</th>\n",
              "      <td>zynq</td>\n",
              "      <td>11</td>\n",
              "    </tr>\n",
              "    <tr>\n",
              "      <th>37033</th>\n",
              "      <td>zypper</td>\n",
              "      <td>2</td>\n",
              "    </tr>\n",
              "  </tbody>\n",
              "</table>\n",
              "<p>37034 rows × 2 columns</p>\n",
              "</div>"
            ],
            "text/plain": [
              "                 Tag  count\n",
              "0                 .a     13\n",
              "1               .app     14\n",
              "2          .aspxauth      6\n",
              "3      .bash-profile     46\n",
              "4        .class-file     19\n",
              "...              ...    ...\n",
              "37029        zwoptex      3\n",
              "37030          zxing    159\n",
              "37031     zxspectrum      1\n",
              "37032           zynq     11\n",
              "37033         zypper      2\n",
              "\n",
              "[37034 rows x 2 columns]"
            ]
          },
          "metadata": {
            "tags": []
          },
          "execution_count": 10
        }
      ]
    },
    {
      "cell_type": "code",
      "metadata": {
        "colab": {
          "base_uri": "https://localhost:8080/"
        },
        "id": "63T-SENLxewl",
        "outputId": "d0756ea2-c73f-41b0-a5d7-b77bed8e6fe8"
      },
      "source": [
        "grouped_tags.Tag.describe()\n"
      ],
      "execution_count": 11,
      "outputs": [
        {
          "output_type": "execute_result",
          "data": {
            "text/plain": [
              "count           37034\n",
              "unique          37034\n",
              "top       springboard\n",
              "freq                1\n",
              "Name: Tag, dtype: object"
            ]
          },
          "metadata": {
            "tags": []
          },
          "execution_count": 11
        }
      ]
    },
    {
      "cell_type": "code",
      "metadata": {
        "id": "ZCmWfEPLxjdH"
      },
      "source": [
        "\n",
        "#Reducing the problem to the most common tags in the dataset\n",
        "num_classes = 10\n",
        "grouped_tags_1 = tags_data.groupby(\"Tag\").size().reset_index(name='count')\n",
        "top_10_tags = grouped_tags_1.nlargest(num_classes,columns=\"count\")"
      ],
      "execution_count": 12,
      "outputs": []
    },
    {
      "cell_type": "code",
      "metadata": {
        "colab": {
          "base_uri": "https://localhost:8080/",
          "height": 359
        },
        "id": "bRJ1eizwxpTW",
        "outputId": "fef75a6e-1d35-472f-bc3f-2d0c1ca2056f"
      },
      "source": [
        "top_10_tags\n"
      ],
      "execution_count": 13,
      "outputs": [
        {
          "output_type": "execute_result",
          "data": {
            "text/html": [
              "<div>\n",
              "<style scoped>\n",
              "    .dataframe tbody tr th:only-of-type {\n",
              "        vertical-align: middle;\n",
              "    }\n",
              "\n",
              "    .dataframe tbody tr th {\n",
              "        vertical-align: top;\n",
              "    }\n",
              "\n",
              "    .dataframe thead th {\n",
              "        text-align: right;\n",
              "    }\n",
              "</style>\n",
              "<table border=\"1\" class=\"dataframe\">\n",
              "  <thead>\n",
              "    <tr style=\"text-align: right;\">\n",
              "      <th></th>\n",
              "      <th>Tag</th>\n",
              "      <th>count</th>\n",
              "    </tr>\n",
              "  </thead>\n",
              "  <tbody>\n",
              "    <tr>\n",
              "      <th>16121</th>\n",
              "      <td>javascript</td>\n",
              "      <td>124155</td>\n",
              "    </tr>\n",
              "    <tr>\n",
              "      <th>16020</th>\n",
              "      <td>java</td>\n",
              "      <td>115212</td>\n",
              "    </tr>\n",
              "    <tr>\n",
              "      <th>4301</th>\n",
              "      <td>c#</td>\n",
              "      <td>101186</td>\n",
              "    </tr>\n",
              "    <tr>\n",
              "      <th>24211</th>\n",
              "      <td>php</td>\n",
              "      <td>98808</td>\n",
              "    </tr>\n",
              "    <tr>\n",
              "      <th>979</th>\n",
              "      <td>android</td>\n",
              "      <td>90659</td>\n",
              "    </tr>\n",
              "    <tr>\n",
              "      <th>16611</th>\n",
              "      <td>jquery</td>\n",
              "      <td>78542</td>\n",
              "    </tr>\n",
              "    <tr>\n",
              "      <th>25712</th>\n",
              "      <td>python</td>\n",
              "      <td>64601</td>\n",
              "    </tr>\n",
              "    <tr>\n",
              "      <th>14180</th>\n",
              "      <td>html</td>\n",
              "      <td>58976</td>\n",
              "    </tr>\n",
              "    <tr>\n",
              "      <th>4311</th>\n",
              "      <td>c++</td>\n",
              "      <td>47591</td>\n",
              "    </tr>\n",
              "    <tr>\n",
              "      <th>15565</th>\n",
              "      <td>ios</td>\n",
              "      <td>47009</td>\n",
              "    </tr>\n",
              "  </tbody>\n",
              "</table>\n",
              "</div>"
            ],
            "text/plain": [
              "              Tag   count\n",
              "16121  javascript  124155\n",
              "16020        java  115212\n",
              "4301           c#  101186\n",
              "24211         php   98808\n",
              "979       android   90659\n",
              "16611      jquery   78542\n",
              "25712      python   64601\n",
              "14180        html   58976\n",
              "4311          c++   47591\n",
              "15565         ios   47009"
            ]
          },
          "metadata": {
            "tags": []
          },
          "execution_count": 13
        }
      ]
    },
    {
      "cell_type": "code",
      "metadata": {
        "id": "j2eSMa5fxsWB"
      },
      "source": [
        "tags_data.Tag = tags_data.Tag.apply(lambda tag : tag if tag in top_10_tags.Tag.values else None)\n"
      ],
      "execution_count": 14,
      "outputs": []
    },
    {
      "cell_type": "code",
      "metadata": {
        "colab": {
          "base_uri": "https://localhost:8080/",
          "height": 419
        },
        "id": "8DBlEKExxwsN",
        "outputId": "0e723e2e-ee35-48dd-b652-c4ee2f1f5ac5"
      },
      "source": [
        "tags_data\n"
      ],
      "execution_count": 15,
      "outputs": [
        {
          "output_type": "execute_result",
          "data": {
            "text/html": [
              "<div>\n",
              "<style scoped>\n",
              "    .dataframe tbody tr th:only-of-type {\n",
              "        vertical-align: middle;\n",
              "    }\n",
              "\n",
              "    .dataframe tbody tr th {\n",
              "        vertical-align: top;\n",
              "    }\n",
              "\n",
              "    .dataframe thead th {\n",
              "        text-align: right;\n",
              "    }\n",
              "</style>\n",
              "<table border=\"1\" class=\"dataframe\">\n",
              "  <thead>\n",
              "    <tr style=\"text-align: right;\">\n",
              "      <th></th>\n",
              "      <th>Id</th>\n",
              "      <th>Tag</th>\n",
              "    </tr>\n",
              "  </thead>\n",
              "  <tbody>\n",
              "    <tr>\n",
              "      <th>0</th>\n",
              "      <td>80</td>\n",
              "      <td>None</td>\n",
              "    </tr>\n",
              "    <tr>\n",
              "      <th>1</th>\n",
              "      <td>80</td>\n",
              "      <td>None</td>\n",
              "    </tr>\n",
              "    <tr>\n",
              "      <th>2</th>\n",
              "      <td>80</td>\n",
              "      <td>None</td>\n",
              "    </tr>\n",
              "    <tr>\n",
              "      <th>3</th>\n",
              "      <td>90</td>\n",
              "      <td>None</td>\n",
              "    </tr>\n",
              "    <tr>\n",
              "      <th>4</th>\n",
              "      <td>90</td>\n",
              "      <td>None</td>\n",
              "    </tr>\n",
              "    <tr>\n",
              "      <th>...</th>\n",
              "      <td>...</td>\n",
              "      <td>...</td>\n",
              "    </tr>\n",
              "    <tr>\n",
              "      <th>3750989</th>\n",
              "      <td>40143360</td>\n",
              "      <td>javascript</td>\n",
              "    </tr>\n",
              "    <tr>\n",
              "      <th>3750990</th>\n",
              "      <td>40143360</td>\n",
              "      <td>None</td>\n",
              "    </tr>\n",
              "    <tr>\n",
              "      <th>3750991</th>\n",
              "      <td>40143380</td>\n",
              "      <td>None</td>\n",
              "    </tr>\n",
              "    <tr>\n",
              "      <th>3750992</th>\n",
              "      <td>40143380</td>\n",
              "      <td>None</td>\n",
              "    </tr>\n",
              "    <tr>\n",
              "      <th>3750993</th>\n",
              "      <td>40143380</td>\n",
              "      <td>None</td>\n",
              "    </tr>\n",
              "  </tbody>\n",
              "</table>\n",
              "<p>3750994 rows × 2 columns</p>\n",
              "</div>"
            ],
            "text/plain": [
              "               Id         Tag\n",
              "0              80        None\n",
              "1              80        None\n",
              "2              80        None\n",
              "3              90        None\n",
              "4              90        None\n",
              "...           ...         ...\n",
              "3750989  40143360  javascript\n",
              "3750990  40143360        None\n",
              "3750991  40143380        None\n",
              "3750992  40143380        None\n",
              "3750993  40143380        None\n",
              "\n",
              "[3750994 rows x 2 columns]"
            ]
          },
          "metadata": {
            "tags": []
          },
          "execution_count": 15
        }
      ]
    },
    {
      "cell_type": "code",
      "metadata": {
        "id": "KVzLaIPIxzsF"
      },
      "source": [
        "tags_data.dropna(inplace=True)\n"
      ],
      "execution_count": 16,
      "outputs": []
    },
    {
      "cell_type": "code",
      "metadata": {
        "colab": {
          "base_uri": "https://localhost:8080/",
          "height": 419
        },
        "id": "mh7NAxZZx22N",
        "outputId": "edcd6e6a-6983-45c3-f179-4ae342d5f917"
      },
      "source": [
        "tags_data\n"
      ],
      "execution_count": 17,
      "outputs": [
        {
          "output_type": "execute_result",
          "data": {
            "text/html": [
              "<div>\n",
              "<style scoped>\n",
              "    .dataframe tbody tr th:only-of-type {\n",
              "        vertical-align: middle;\n",
              "    }\n",
              "\n",
              "    .dataframe tbody tr th {\n",
              "        vertical-align: top;\n",
              "    }\n",
              "\n",
              "    .dataframe thead th {\n",
              "        text-align: right;\n",
              "    }\n",
              "</style>\n",
              "<table border=\"1\" class=\"dataframe\">\n",
              "  <thead>\n",
              "    <tr style=\"text-align: right;\">\n",
              "      <th></th>\n",
              "      <th>Id</th>\n",
              "      <th>Tag</th>\n",
              "    </tr>\n",
              "  </thead>\n",
              "  <tbody>\n",
              "    <tr>\n",
              "      <th>14</th>\n",
              "      <td>260</td>\n",
              "      <td>c#</td>\n",
              "    </tr>\n",
              "    <tr>\n",
              "      <th>18</th>\n",
              "      <td>330</td>\n",
              "      <td>c++</td>\n",
              "    </tr>\n",
              "    <tr>\n",
              "      <th>28</th>\n",
              "      <td>650</td>\n",
              "      <td>c#</td>\n",
              "    </tr>\n",
              "    <tr>\n",
              "      <th>35</th>\n",
              "      <td>930</td>\n",
              "      <td>c#</td>\n",
              "    </tr>\n",
              "    <tr>\n",
              "      <th>39</th>\n",
              "      <td>1010</td>\n",
              "      <td>c#</td>\n",
              "    </tr>\n",
              "    <tr>\n",
              "      <th>...</th>\n",
              "      <td>...</td>\n",
              "      <td>...</td>\n",
              "    </tr>\n",
              "    <tr>\n",
              "      <th>3750974</th>\n",
              "      <td>40143150</td>\n",
              "      <td>javascript</td>\n",
              "    </tr>\n",
              "    <tr>\n",
              "      <th>3750981</th>\n",
              "      <td>40143190</td>\n",
              "      <td>python</td>\n",
              "    </tr>\n",
              "    <tr>\n",
              "      <th>3750984</th>\n",
              "      <td>40143210</td>\n",
              "      <td>php</td>\n",
              "    </tr>\n",
              "    <tr>\n",
              "      <th>3750987</th>\n",
              "      <td>40143340</td>\n",
              "      <td>android</td>\n",
              "    </tr>\n",
              "    <tr>\n",
              "      <th>3750989</th>\n",
              "      <td>40143360</td>\n",
              "      <td>javascript</td>\n",
              "    </tr>\n",
              "  </tbody>\n",
              "</table>\n",
              "<p>826739 rows × 2 columns</p>\n",
              "</div>"
            ],
            "text/plain": [
              "               Id         Tag\n",
              "14            260          c#\n",
              "18            330         c++\n",
              "28            650          c#\n",
              "35            930          c#\n",
              "39           1010          c#\n",
              "...           ...         ...\n",
              "3750974  40143150  javascript\n",
              "3750981  40143190      python\n",
              "3750984  40143210         php\n",
              "3750987  40143340     android\n",
              "3750989  40143360  javascript\n",
              "\n",
              "[826739 rows x 2 columns]"
            ]
          },
          "metadata": {
            "tags": []
          },
          "execution_count": 17
        }
      ]
    },
    {
      "cell_type": "code",
      "metadata": {
        "id": "BJinsurgx515"
      },
      "source": [
        "#preparing the contents of dataframe\n",
        "#text = '<p dgqwifgwi> This is important </p>'\n",
        "import re\n",
        "\n",
        "def strip_html_tags(body) :\n",
        "  regex = re.compile('<.*?>')\n",
        "  return re.sub(regex, '', body)"
      ],
      "execution_count": 18,
      "outputs": []
    },
    {
      "cell_type": "code",
      "metadata": {
        "id": "eS7XfNCHyCGg"
      },
      "source": [
        "questions_data['Body'] = questions_data.Body.apply(strip_html_tags)\n"
      ],
      "execution_count": 19,
      "outputs": []
    },
    {
      "cell_type": "code",
      "metadata": {
        "colab": {
          "base_uri": "https://localhost:8080/"
        },
        "id": "67K6e221yFHY",
        "outputId": "0c345012-b509-4e88-918e-97695f362815"
      },
      "source": [
        "questions_data['Body']\n"
      ],
      "execution_count": 20,
      "outputs": [
        {
          "output_type": "execute_result",
          "data": {
            "text/plain": [
              "0          I've written a database generation script in S...\n",
              "1          Are there any really good tutorials explaining...\n",
              "2          Has anyone got experience creating SQL-based A...\n",
              "3          This is something I've pseudo-solved many time...\n",
              "4          I have a little game written in C#. It uses a ...\n",
              "                                 ...                        \n",
              "1264211    I am building a custom MVC project and I have ...\n",
              "1264212    The API docs show that you should be able to m...\n",
              "1264213    Under minifyEnabled I changed from false to tr...\n",
              "1264214    I have input which I use to filter my array of...\n",
              "1264215    I'm running a mocha test and I noticed my chan...\n",
              "Name: Body, Length: 1264216, dtype: object"
            ]
          },
          "metadata": {
            "tags": []
          },
          "execution_count": 20
        }
      ]
    },
    {
      "cell_type": "code",
      "metadata": {
        "id": "JqobyJ8ryIFM"
      },
      "source": [
        "questions_data['Text'] = questions_data['Title']+' '+questions_data['Body']\n"
      ],
      "execution_count": 21,
      "outputs": []
    },
    {
      "cell_type": "code",
      "metadata": {
        "colab": {
          "base_uri": "https://localhost:8080/"
        },
        "id": "Wf__8LcvyMIz",
        "outputId": "2a43474b-27fa-4a11-ac1d-c1335a7e75ac"
      },
      "source": [
        "questions_data['Text']\n"
      ],
      "execution_count": 22,
      "outputs": [
        {
          "output_type": "execute_result",
          "data": {
            "text/plain": [
              "0          SQLStatement.execute() - multiple queries in o...\n",
              "1          Good branching and merging tutorials for Torto...\n",
              "2          ASP.NET Site Maps Has anyone got experience cr...\n",
              "3          Function for creating color wheels This is som...\n",
              "4          Adding scripting functionality to .NET applica...\n",
              "                                 ...                        \n",
              "1264211    URL routing in PHP (MVC) I am building a custo...\n",
              "1264212    Bigquery.Jobs.Insert - Resumable Upload? The A...\n",
              "1264213    Obfuscating code in android studio Under minif...\n",
              "1264214    How to fire function after v-model change? I h...\n",
              "1264215    npm run mocha test - files being cached I'm ru...\n",
              "Name: Text, Length: 1264216, dtype: object"
            ]
          },
          "metadata": {
            "tags": []
          },
          "execution_count": 22
        }
      ]
    },
    {
      "cell_type": "code",
      "metadata": {
        "colab": {
          "base_uri": "https://localhost:8080/"
        },
        "id": "u9ALQOsIyPql",
        "outputId": "a3a9e7bc-88ad-42bc-c23f-73dba6657ca7"
      },
      "source": [
        "questions_data.shape\n"
      ],
      "execution_count": 23,
      "outputs": [
        {
          "output_type": "execute_result",
          "data": {
            "text/plain": [
              "(1264216, 8)"
            ]
          },
          "metadata": {
            "tags": []
          },
          "execution_count": 23
        }
      ]
    },
    {
      "cell_type": "code",
      "metadata": {
        "colab": {
          "base_uri": "https://localhost:8080/"
        },
        "id": "KBP9DC0eySt4",
        "outputId": "65ca2ced-c2eb-4a53-d6ff-4b5ce7a898a8"
      },
      "source": [
        "tags_data.shape\n"
      ],
      "execution_count": 24,
      "outputs": [
        {
          "output_type": "execute_result",
          "data": {
            "text/plain": [
              "(826739, 2)"
            ]
          },
          "metadata": {
            "tags": []
          },
          "execution_count": 24
        }
      ]
    },
    {
      "cell_type": "code",
      "metadata": {
        "colab": {
          "base_uri": "https://localhost:8080/",
          "height": 111
        },
        "id": "7r_5wd_syV8P",
        "outputId": "b3f9ab2b-6e34-462d-8dc7-9b4cd0254e74"
      },
      "source": [
        "tags_data.head(2)\n"
      ],
      "execution_count": 25,
      "outputs": [
        {
          "output_type": "execute_result",
          "data": {
            "text/html": [
              "<div>\n",
              "<style scoped>\n",
              "    .dataframe tbody tr th:only-of-type {\n",
              "        vertical-align: middle;\n",
              "    }\n",
              "\n",
              "    .dataframe tbody tr th {\n",
              "        vertical-align: top;\n",
              "    }\n",
              "\n",
              "    .dataframe thead th {\n",
              "        text-align: right;\n",
              "    }\n",
              "</style>\n",
              "<table border=\"1\" class=\"dataframe\">\n",
              "  <thead>\n",
              "    <tr style=\"text-align: right;\">\n",
              "      <th></th>\n",
              "      <th>Id</th>\n",
              "      <th>Tag</th>\n",
              "    </tr>\n",
              "  </thead>\n",
              "  <tbody>\n",
              "    <tr>\n",
              "      <th>14</th>\n",
              "      <td>260</td>\n",
              "      <td>c#</td>\n",
              "    </tr>\n",
              "    <tr>\n",
              "      <th>18</th>\n",
              "      <td>330</td>\n",
              "      <td>c++</td>\n",
              "    </tr>\n",
              "  </tbody>\n",
              "</table>\n",
              "</div>"
            ],
            "text/plain": [
              "     Id  Tag\n",
              "14  260   c#\n",
              "18  330  c++"
            ]
          },
          "metadata": {
            "tags": []
          },
          "execution_count": 25
        }
      ]
    },
    {
      "cell_type": "code",
      "metadata": {
        "colab": {
          "base_uri": "https://localhost:8080/",
          "height": 589
        },
        "id": "IlXpxC44yzoY",
        "outputId": "e20b8025-acce-4c75-9b4a-11ad716d344d"
      },
      "source": [
        "questions_data.sort_values('Id')\n"
      ],
      "execution_count": 26,
      "outputs": [
        {
          "output_type": "execute_result",
          "data": {
            "text/html": [
              "<div>\n",
              "<style scoped>\n",
              "    .dataframe tbody tr th:only-of-type {\n",
              "        vertical-align: middle;\n",
              "    }\n",
              "\n",
              "    .dataframe tbody tr th {\n",
              "        vertical-align: top;\n",
              "    }\n",
              "\n",
              "    .dataframe thead th {\n",
              "        text-align: right;\n",
              "    }\n",
              "</style>\n",
              "<table border=\"1\" class=\"dataframe\">\n",
              "  <thead>\n",
              "    <tr style=\"text-align: right;\">\n",
              "      <th></th>\n",
              "      <th>Id</th>\n",
              "      <th>OwnerUserId</th>\n",
              "      <th>CreationDate</th>\n",
              "      <th>ClosedDate</th>\n",
              "      <th>Score</th>\n",
              "      <th>Title</th>\n",
              "      <th>Body</th>\n",
              "      <th>Text</th>\n",
              "    </tr>\n",
              "  </thead>\n",
              "  <tbody>\n",
              "    <tr>\n",
              "      <th>0</th>\n",
              "      <td>80</td>\n",
              "      <td>26.0</td>\n",
              "      <td>2008-08-01T13:57:07Z</td>\n",
              "      <td>NaN</td>\n",
              "      <td>26</td>\n",
              "      <td>SQLStatement.execute() - multiple queries in o...</td>\n",
              "      <td>I've written a database generation script in S...</td>\n",
              "      <td>SQLStatement.execute() - multiple queries in o...</td>\n",
              "    </tr>\n",
              "    <tr>\n",
              "      <th>1</th>\n",
              "      <td>90</td>\n",
              "      <td>58.0</td>\n",
              "      <td>2008-08-01T14:41:24Z</td>\n",
              "      <td>2012-12-26T03:45:49Z</td>\n",
              "      <td>144</td>\n",
              "      <td>Good branching and merging tutorials for Torto...</td>\n",
              "      <td>Are there any really good tutorials explaining...</td>\n",
              "      <td>Good branching and merging tutorials for Torto...</td>\n",
              "    </tr>\n",
              "    <tr>\n",
              "      <th>2</th>\n",
              "      <td>120</td>\n",
              "      <td>83.0</td>\n",
              "      <td>2008-08-01T15:50:08Z</td>\n",
              "      <td>NaN</td>\n",
              "      <td>21</td>\n",
              "      <td>ASP.NET Site Maps</td>\n",
              "      <td>Has anyone got experience creating SQL-based A...</td>\n",
              "      <td>ASP.NET Site Maps Has anyone got experience cr...</td>\n",
              "    </tr>\n",
              "    <tr>\n",
              "      <th>3</th>\n",
              "      <td>180</td>\n",
              "      <td>2089740.0</td>\n",
              "      <td>2008-08-01T18:42:19Z</td>\n",
              "      <td>NaN</td>\n",
              "      <td>53</td>\n",
              "      <td>Function for creating color wheels</td>\n",
              "      <td>This is something I've pseudo-solved many time...</td>\n",
              "      <td>Function for creating color wheels This is som...</td>\n",
              "    </tr>\n",
              "    <tr>\n",
              "      <th>4</th>\n",
              "      <td>260</td>\n",
              "      <td>91.0</td>\n",
              "      <td>2008-08-01T23:22:08Z</td>\n",
              "      <td>NaN</td>\n",
              "      <td>49</td>\n",
              "      <td>Adding scripting functionality to .NET applica...</td>\n",
              "      <td>I have a little game written in C#. It uses a ...</td>\n",
              "      <td>Adding scripting functionality to .NET applica...</td>\n",
              "    </tr>\n",
              "    <tr>\n",
              "      <th>...</th>\n",
              "      <td>...</td>\n",
              "      <td>...</td>\n",
              "      <td>...</td>\n",
              "      <td>...</td>\n",
              "      <td>...</td>\n",
              "      <td>...</td>\n",
              "      <td>...</td>\n",
              "      <td>...</td>\n",
              "    </tr>\n",
              "    <tr>\n",
              "      <th>1264211</th>\n",
              "      <td>40143210</td>\n",
              "      <td>5610777.0</td>\n",
              "      <td>2016-10-19T23:38:01Z</td>\n",
              "      <td>NaN</td>\n",
              "      <td>0</td>\n",
              "      <td>URL routing in PHP (MVC)</td>\n",
              "      <td>I am building a custom MVC project and I have ...</td>\n",
              "      <td>URL routing in PHP (MVC) I am building a custo...</td>\n",
              "    </tr>\n",
              "    <tr>\n",
              "      <th>1264212</th>\n",
              "      <td>40143300</td>\n",
              "      <td>3791161.0</td>\n",
              "      <td>2016-10-19T23:48:09Z</td>\n",
              "      <td>NaN</td>\n",
              "      <td>0</td>\n",
              "      <td>Bigquery.Jobs.Insert - Resumable Upload?</td>\n",
              "      <td>The API docs show that you should be able to m...</td>\n",
              "      <td>Bigquery.Jobs.Insert - Resumable Upload? The A...</td>\n",
              "    </tr>\n",
              "    <tr>\n",
              "      <th>1264213</th>\n",
              "      <td>40143340</td>\n",
              "      <td>7028647.0</td>\n",
              "      <td>2016-10-19T23:52:50Z</td>\n",
              "      <td>NaN</td>\n",
              "      <td>1</td>\n",
              "      <td>Obfuscating code in android studio</td>\n",
              "      <td>Under minifyEnabled I changed from false to tr...</td>\n",
              "      <td>Obfuscating code in android studio Under minif...</td>\n",
              "    </tr>\n",
              "    <tr>\n",
              "      <th>1264214</th>\n",
              "      <td>40143360</td>\n",
              "      <td>871677.0</td>\n",
              "      <td>2016-10-19T23:55:24Z</td>\n",
              "      <td>NaN</td>\n",
              "      <td>0</td>\n",
              "      <td>How to fire function after v-model change?</td>\n",
              "      <td>I have input which I use to filter my array of...</td>\n",
              "      <td>How to fire function after v-model change? I h...</td>\n",
              "    </tr>\n",
              "    <tr>\n",
              "      <th>1264215</th>\n",
              "      <td>40143380</td>\n",
              "      <td>6823982.0</td>\n",
              "      <td>2016-10-19T23:57:31Z</td>\n",
              "      <td>NaN</td>\n",
              "      <td>0</td>\n",
              "      <td>npm run mocha test - files being cached</td>\n",
              "      <td>I'm running a mocha test and I noticed my chan...</td>\n",
              "      <td>npm run mocha test - files being cached I'm ru...</td>\n",
              "    </tr>\n",
              "  </tbody>\n",
              "</table>\n",
              "<p>1264216 rows × 8 columns</p>\n",
              "</div>"
            ],
            "text/plain": [
              "               Id  ...                                               Text\n",
              "0              80  ...  SQLStatement.execute() - multiple queries in o...\n",
              "1              90  ...  Good branching and merging tutorials for Torto...\n",
              "2             120  ...  ASP.NET Site Maps Has anyone got experience cr...\n",
              "3             180  ...  Function for creating color wheels This is som...\n",
              "4             260  ...  Adding scripting functionality to .NET applica...\n",
              "...           ...  ...                                                ...\n",
              "1264211  40143210  ...  URL routing in PHP (MVC) I am building a custo...\n",
              "1264212  40143300  ...  Bigquery.Jobs.Insert - Resumable Upload? The A...\n",
              "1264213  40143340  ...  Obfuscating code in android studio Under minif...\n",
              "1264214  40143360  ...  How to fire function after v-model change? I h...\n",
              "1264215  40143380  ...  npm run mocha test - files being cached I'm ru...\n",
              "\n",
              "[1264216 rows x 8 columns]"
            ]
          },
          "metadata": {
            "tags": []
          },
          "execution_count": 26
        }
      ]
    },
    {
      "cell_type": "code",
      "metadata": {
        "colab": {
          "base_uri": "https://localhost:8080/",
          "height": 419
        },
        "id": "2SsKQkTvy3jj",
        "outputId": "371de5c6-e093-4dc7-f758-bd5fbb323ec8"
      },
      "source": [
        "tags_data.sort_values('Id')\n"
      ],
      "execution_count": 27,
      "outputs": [
        {
          "output_type": "execute_result",
          "data": {
            "text/html": [
              "<div>\n",
              "<style scoped>\n",
              "    .dataframe tbody tr th:only-of-type {\n",
              "        vertical-align: middle;\n",
              "    }\n",
              "\n",
              "    .dataframe tbody tr th {\n",
              "        vertical-align: top;\n",
              "    }\n",
              "\n",
              "    .dataframe thead th {\n",
              "        text-align: right;\n",
              "    }\n",
              "</style>\n",
              "<table border=\"1\" class=\"dataframe\">\n",
              "  <thead>\n",
              "    <tr style=\"text-align: right;\">\n",
              "      <th></th>\n",
              "      <th>Id</th>\n",
              "      <th>Tag</th>\n",
              "    </tr>\n",
              "  </thead>\n",
              "  <tbody>\n",
              "    <tr>\n",
              "      <th>14</th>\n",
              "      <td>260</td>\n",
              "      <td>c#</td>\n",
              "    </tr>\n",
              "    <tr>\n",
              "      <th>18</th>\n",
              "      <td>330</td>\n",
              "      <td>c++</td>\n",
              "    </tr>\n",
              "    <tr>\n",
              "      <th>28</th>\n",
              "      <td>650</td>\n",
              "      <td>c#</td>\n",
              "    </tr>\n",
              "    <tr>\n",
              "      <th>35</th>\n",
              "      <td>930</td>\n",
              "      <td>c#</td>\n",
              "    </tr>\n",
              "    <tr>\n",
              "      <th>39</th>\n",
              "      <td>1010</td>\n",
              "      <td>c#</td>\n",
              "    </tr>\n",
              "    <tr>\n",
              "      <th>...</th>\n",
              "      <td>...</td>\n",
              "      <td>...</td>\n",
              "    </tr>\n",
              "    <tr>\n",
              "      <th>3750974</th>\n",
              "      <td>40143150</td>\n",
              "      <td>javascript</td>\n",
              "    </tr>\n",
              "    <tr>\n",
              "      <th>3750981</th>\n",
              "      <td>40143190</td>\n",
              "      <td>python</td>\n",
              "    </tr>\n",
              "    <tr>\n",
              "      <th>3750984</th>\n",
              "      <td>40143210</td>\n",
              "      <td>php</td>\n",
              "    </tr>\n",
              "    <tr>\n",
              "      <th>3750987</th>\n",
              "      <td>40143340</td>\n",
              "      <td>android</td>\n",
              "    </tr>\n",
              "    <tr>\n",
              "      <th>3750989</th>\n",
              "      <td>40143360</td>\n",
              "      <td>javascript</td>\n",
              "    </tr>\n",
              "  </tbody>\n",
              "</table>\n",
              "<p>826739 rows × 2 columns</p>\n",
              "</div>"
            ],
            "text/plain": [
              "               Id         Tag\n",
              "14            260          c#\n",
              "18            330         c++\n",
              "28            650          c#\n",
              "35            930          c#\n",
              "39           1010          c#\n",
              "...           ...         ...\n",
              "3750974  40143150  javascript\n",
              "3750981  40143190      python\n",
              "3750984  40143210         php\n",
              "3750987  40143340     android\n",
              "3750989  40143360  javascript\n",
              "\n",
              "[826739 rows x 2 columns]"
            ]
          },
          "metadata": {
            "tags": []
          },
          "execution_count": 27
        }
      ]
    },
    {
      "cell_type": "code",
      "metadata": {
        "colab": {
          "base_uri": "https://localhost:8080/"
        },
        "id": "WD8n8OYqy7X5",
        "outputId": "23a8f6f0-9a98-4b06-a3b2-72838596b44c"
      },
      "source": [
        "tags_data.nunique()\n"
      ],
      "execution_count": 28,
      "outputs": [
        {
          "output_type": "execute_result",
          "data": {
            "text/plain": [
              "Id     706336\n",
              "Tag        10\n",
              "dtype: int64"
            ]
          },
          "metadata": {
            "tags": []
          },
          "execution_count": 28
        }
      ]
    },
    {
      "cell_type": "code",
      "metadata": {
        "id": "kC5XkSl1y_lS"
      },
      "source": [
        "tag_Ids = list(tags_data['Id'])\n"
      ],
      "execution_count": 29,
      "outputs": []
    },
    {
      "cell_type": "code",
      "metadata": {
        "colab": {
          "base_uri": "https://localhost:8080/",
          "height": 589
        },
        "id": "gwYI1zv5zDCy",
        "outputId": "1e166e9d-aea5-40c2-b1b4-eec15660cd29"
      },
      "source": [
        "\n",
        "questiond_data_top_10 = questions_data[questions_data['Id'].isin(tag_Ids)]\n",
        "questiond_data_top_10"
      ],
      "execution_count": 31,
      "outputs": [
        {
          "output_type": "execute_result",
          "data": {
            "text/html": [
              "<div>\n",
              "<style scoped>\n",
              "    .dataframe tbody tr th:only-of-type {\n",
              "        vertical-align: middle;\n",
              "    }\n",
              "\n",
              "    .dataframe tbody tr th {\n",
              "        vertical-align: top;\n",
              "    }\n",
              "\n",
              "    .dataframe thead th {\n",
              "        text-align: right;\n",
              "    }\n",
              "</style>\n",
              "<table border=\"1\" class=\"dataframe\">\n",
              "  <thead>\n",
              "    <tr style=\"text-align: right;\">\n",
              "      <th></th>\n",
              "      <th>Id</th>\n",
              "      <th>OwnerUserId</th>\n",
              "      <th>CreationDate</th>\n",
              "      <th>ClosedDate</th>\n",
              "      <th>Score</th>\n",
              "      <th>Title</th>\n",
              "      <th>Body</th>\n",
              "      <th>Text</th>\n",
              "    </tr>\n",
              "  </thead>\n",
              "  <tbody>\n",
              "    <tr>\n",
              "      <th>4</th>\n",
              "      <td>260</td>\n",
              "      <td>91.0</td>\n",
              "      <td>2008-08-01T23:22:08Z</td>\n",
              "      <td>NaN</td>\n",
              "      <td>49</td>\n",
              "      <td>Adding scripting functionality to .NET applica...</td>\n",
              "      <td>I have a little game written in C#. It uses a ...</td>\n",
              "      <td>Adding scripting functionality to .NET applica...</td>\n",
              "    </tr>\n",
              "    <tr>\n",
              "      <th>5</th>\n",
              "      <td>330</td>\n",
              "      <td>63.0</td>\n",
              "      <td>2008-08-02T02:51:36Z</td>\n",
              "      <td>NaN</td>\n",
              "      <td>29</td>\n",
              "      <td>Should I use nested classes in this case?</td>\n",
              "      <td>I am working on a collection of classes used f...</td>\n",
              "      <td>Should I use nested classes in this case? I am...</td>\n",
              "    </tr>\n",
              "    <tr>\n",
              "      <th>8</th>\n",
              "      <td>650</td>\n",
              "      <td>143.0</td>\n",
              "      <td>2008-08-03T11:12:52Z</td>\n",
              "      <td>NaN</td>\n",
              "      <td>79</td>\n",
              "      <td>Automatically update version number</td>\n",
              "      <td>I would like the version property of my applic...</td>\n",
              "      <td>Automatically update version number I would li...</td>\n",
              "    </tr>\n",
              "    <tr>\n",
              "      <th>10</th>\n",
              "      <td>930</td>\n",
              "      <td>245.0</td>\n",
              "      <td>2008-08-04T00:47:25Z</td>\n",
              "      <td>NaN</td>\n",
              "      <td>28</td>\n",
              "      <td>How do I connect to a database and loop over a...</td>\n",
              "      <td>What's the simplest way to connect and query a...</td>\n",
              "      <td>How do I connect to a database and loop over a...</td>\n",
              "    </tr>\n",
              "    <tr>\n",
              "      <th>11</th>\n",
              "      <td>1010</td>\n",
              "      <td>67.0</td>\n",
              "      <td>2008-08-04T03:59:42Z</td>\n",
              "      <td>NaN</td>\n",
              "      <td>14</td>\n",
              "      <td>How to get the value of built, encoded ViewState?</td>\n",
              "      <td>I need to grab the base64-encoded representati...</td>\n",
              "      <td>How to get the value of built, encoded ViewSta...</td>\n",
              "    </tr>\n",
              "    <tr>\n",
              "      <th>...</th>\n",
              "      <td>...</td>\n",
              "      <td>...</td>\n",
              "      <td>...</td>\n",
              "      <td>...</td>\n",
              "      <td>...</td>\n",
              "      <td>...</td>\n",
              "      <td>...</td>\n",
              "      <td>...</td>\n",
              "    </tr>\n",
              "    <tr>\n",
              "      <th>1264208</th>\n",
              "      <td>40143150</td>\n",
              "      <td>5496690.0</td>\n",
              "      <td>2016-10-19T23:31:41Z</td>\n",
              "      <td>NaN</td>\n",
              "      <td>0</td>\n",
              "      <td>YouTube iFrame API: no ready call, no error call</td>\n",
              "      <td>I'm trying to detect the \"flash out of date\" e...</td>\n",
              "      <td>YouTube iFrame API: no ready call, no error ca...</td>\n",
              "    </tr>\n",
              "    <tr>\n",
              "      <th>1264210</th>\n",
              "      <td>40143190</td>\n",
              "      <td>333403.0</td>\n",
              "      <td>2016-10-19T23:36:01Z</td>\n",
              "      <td>NaN</td>\n",
              "      <td>1</td>\n",
              "      <td>How to execute multiline python code from a ba...</td>\n",
              "      <td>I need to extend a shell script (bash). As I a...</td>\n",
              "      <td>How to execute multiline python code from a ba...</td>\n",
              "    </tr>\n",
              "    <tr>\n",
              "      <th>1264211</th>\n",
              "      <td>40143210</td>\n",
              "      <td>5610777.0</td>\n",
              "      <td>2016-10-19T23:38:01Z</td>\n",
              "      <td>NaN</td>\n",
              "      <td>0</td>\n",
              "      <td>URL routing in PHP (MVC)</td>\n",
              "      <td>I am building a custom MVC project and I have ...</td>\n",
              "      <td>URL routing in PHP (MVC) I am building a custo...</td>\n",
              "    </tr>\n",
              "    <tr>\n",
              "      <th>1264213</th>\n",
              "      <td>40143340</td>\n",
              "      <td>7028647.0</td>\n",
              "      <td>2016-10-19T23:52:50Z</td>\n",
              "      <td>NaN</td>\n",
              "      <td>1</td>\n",
              "      <td>Obfuscating code in android studio</td>\n",
              "      <td>Under minifyEnabled I changed from false to tr...</td>\n",
              "      <td>Obfuscating code in android studio Under minif...</td>\n",
              "    </tr>\n",
              "    <tr>\n",
              "      <th>1264214</th>\n",
              "      <td>40143360</td>\n",
              "      <td>871677.0</td>\n",
              "      <td>2016-10-19T23:55:24Z</td>\n",
              "      <td>NaN</td>\n",
              "      <td>0</td>\n",
              "      <td>How to fire function after v-model change?</td>\n",
              "      <td>I have input which I use to filter my array of...</td>\n",
              "      <td>How to fire function after v-model change? I h...</td>\n",
              "    </tr>\n",
              "  </tbody>\n",
              "</table>\n",
              "<p>706336 rows × 8 columns</p>\n",
              "</div>"
            ],
            "text/plain": [
              "               Id  ...                                               Text\n",
              "4             260  ...  Adding scripting functionality to .NET applica...\n",
              "5             330  ...  Should I use nested classes in this case? I am...\n",
              "8             650  ...  Automatically update version number I would li...\n",
              "10            930  ...  How do I connect to a database and loop over a...\n",
              "11           1010  ...  How to get the value of built, encoded ViewSta...\n",
              "...           ...  ...                                                ...\n",
              "1264208  40143150  ...  YouTube iFrame API: no ready call, no error ca...\n",
              "1264210  40143190  ...  How to execute multiline python code from a ba...\n",
              "1264211  40143210  ...  URL routing in PHP (MVC) I am building a custo...\n",
              "1264213  40143340  ...  Obfuscating code in android studio Under minif...\n",
              "1264214  40143360  ...  How to fire function after v-model change? I h...\n",
              "\n",
              "[706336 rows x 8 columns]"
            ]
          },
          "metadata": {
            "tags": []
          },
          "execution_count": 31
        }
      ]
    },
    {
      "cell_type": "code",
      "metadata": {
        "colab": {
          "base_uri": "https://localhost:8080/",
          "height": 963
        },
        "id": "K9ER6wunzHnR",
        "outputId": "223be452-bd4c-4349-a9ae-e44217c73955"
      },
      "source": [
        "questions_data_top_10 = questiond_data_top_10.merge(tags_data)\n",
        "questions_data_top_10\n"
      ],
      "execution_count": 32,
      "outputs": [
        {
          "output_type": "execute_result",
          "data": {
            "text/html": [
              "<div>\n",
              "<style scoped>\n",
              "    .dataframe tbody tr th:only-of-type {\n",
              "        vertical-align: middle;\n",
              "    }\n",
              "\n",
              "    .dataframe tbody tr th {\n",
              "        vertical-align: top;\n",
              "    }\n",
              "\n",
              "    .dataframe thead th {\n",
              "        text-align: right;\n",
              "    }\n",
              "</style>\n",
              "<table border=\"1\" class=\"dataframe\">\n",
              "  <thead>\n",
              "    <tr style=\"text-align: right;\">\n",
              "      <th></th>\n",
              "      <th>Id</th>\n",
              "      <th>OwnerUserId</th>\n",
              "      <th>CreationDate</th>\n",
              "      <th>ClosedDate</th>\n",
              "      <th>Score</th>\n",
              "      <th>Title</th>\n",
              "      <th>Body</th>\n",
              "      <th>Text</th>\n",
              "      <th>Tag</th>\n",
              "    </tr>\n",
              "  </thead>\n",
              "  <tbody>\n",
              "    <tr>\n",
              "      <th>0</th>\n",
              "      <td>260</td>\n",
              "      <td>91.0</td>\n",
              "      <td>2008-08-01T23:22:08Z</td>\n",
              "      <td>NaN</td>\n",
              "      <td>49</td>\n",
              "      <td>Adding scripting functionality to .NET applica...</td>\n",
              "      <td>I have a little game written in C#. It uses a ...</td>\n",
              "      <td>Adding scripting functionality to .NET applica...</td>\n",
              "      <td>c#</td>\n",
              "    </tr>\n",
              "    <tr>\n",
              "      <th>1</th>\n",
              "      <td>330</td>\n",
              "      <td>63.0</td>\n",
              "      <td>2008-08-02T02:51:36Z</td>\n",
              "      <td>NaN</td>\n",
              "      <td>29</td>\n",
              "      <td>Should I use nested classes in this case?</td>\n",
              "      <td>I am working on a collection of classes used f...</td>\n",
              "      <td>Should I use nested classes in this case? I am...</td>\n",
              "      <td>c++</td>\n",
              "    </tr>\n",
              "    <tr>\n",
              "      <th>2</th>\n",
              "      <td>650</td>\n",
              "      <td>143.0</td>\n",
              "      <td>2008-08-03T11:12:52Z</td>\n",
              "      <td>NaN</td>\n",
              "      <td>79</td>\n",
              "      <td>Automatically update version number</td>\n",
              "      <td>I would like the version property of my applic...</td>\n",
              "      <td>Automatically update version number I would li...</td>\n",
              "      <td>c#</td>\n",
              "    </tr>\n",
              "    <tr>\n",
              "      <th>3</th>\n",
              "      <td>930</td>\n",
              "      <td>245.0</td>\n",
              "      <td>2008-08-04T00:47:25Z</td>\n",
              "      <td>NaN</td>\n",
              "      <td>28</td>\n",
              "      <td>How do I connect to a database and loop over a...</td>\n",
              "      <td>What's the simplest way to connect and query a...</td>\n",
              "      <td>How do I connect to a database and loop over a...</td>\n",
              "      <td>c#</td>\n",
              "    </tr>\n",
              "    <tr>\n",
              "      <th>4</th>\n",
              "      <td>1010</td>\n",
              "      <td>67.0</td>\n",
              "      <td>2008-08-04T03:59:42Z</td>\n",
              "      <td>NaN</td>\n",
              "      <td>14</td>\n",
              "      <td>How to get the value of built, encoded ViewState?</td>\n",
              "      <td>I need to grab the base64-encoded representati...</td>\n",
              "      <td>How to get the value of built, encoded ViewSta...</td>\n",
              "      <td>c#</td>\n",
              "    </tr>\n",
              "    <tr>\n",
              "      <th>...</th>\n",
              "      <td>...</td>\n",
              "      <td>...</td>\n",
              "      <td>...</td>\n",
              "      <td>...</td>\n",
              "      <td>...</td>\n",
              "      <td>...</td>\n",
              "      <td>...</td>\n",
              "      <td>...</td>\n",
              "      <td>...</td>\n",
              "    </tr>\n",
              "    <tr>\n",
              "      <th>826734</th>\n",
              "      <td>40143150</td>\n",
              "      <td>5496690.0</td>\n",
              "      <td>2016-10-19T23:31:41Z</td>\n",
              "      <td>NaN</td>\n",
              "      <td>0</td>\n",
              "      <td>YouTube iFrame API: no ready call, no error call</td>\n",
              "      <td>I'm trying to detect the \"flash out of date\" e...</td>\n",
              "      <td>YouTube iFrame API: no ready call, no error ca...</td>\n",
              "      <td>javascript</td>\n",
              "    </tr>\n",
              "    <tr>\n",
              "      <th>826735</th>\n",
              "      <td>40143190</td>\n",
              "      <td>333403.0</td>\n",
              "      <td>2016-10-19T23:36:01Z</td>\n",
              "      <td>NaN</td>\n",
              "      <td>1</td>\n",
              "      <td>How to execute multiline python code from a ba...</td>\n",
              "      <td>I need to extend a shell script (bash). As I a...</td>\n",
              "      <td>How to execute multiline python code from a ba...</td>\n",
              "      <td>python</td>\n",
              "    </tr>\n",
              "    <tr>\n",
              "      <th>826736</th>\n",
              "      <td>40143210</td>\n",
              "      <td>5610777.0</td>\n",
              "      <td>2016-10-19T23:38:01Z</td>\n",
              "      <td>NaN</td>\n",
              "      <td>0</td>\n",
              "      <td>URL routing in PHP (MVC)</td>\n",
              "      <td>I am building a custom MVC project and I have ...</td>\n",
              "      <td>URL routing in PHP (MVC) I am building a custo...</td>\n",
              "      <td>php</td>\n",
              "    </tr>\n",
              "    <tr>\n",
              "      <th>826737</th>\n",
              "      <td>40143340</td>\n",
              "      <td>7028647.0</td>\n",
              "      <td>2016-10-19T23:52:50Z</td>\n",
              "      <td>NaN</td>\n",
              "      <td>1</td>\n",
              "      <td>Obfuscating code in android studio</td>\n",
              "      <td>Under minifyEnabled I changed from false to tr...</td>\n",
              "      <td>Obfuscating code in android studio Under minif...</td>\n",
              "      <td>android</td>\n",
              "    </tr>\n",
              "    <tr>\n",
              "      <th>826738</th>\n",
              "      <td>40143360</td>\n",
              "      <td>871677.0</td>\n",
              "      <td>2016-10-19T23:55:24Z</td>\n",
              "      <td>NaN</td>\n",
              "      <td>0</td>\n",
              "      <td>How to fire function after v-model change?</td>\n",
              "      <td>I have input which I use to filter my array of...</td>\n",
              "      <td>How to fire function after v-model change? I h...</td>\n",
              "      <td>javascript</td>\n",
              "    </tr>\n",
              "  </tbody>\n",
              "</table>\n",
              "<p>826739 rows × 9 columns</p>\n",
              "</div>"
            ],
            "text/plain": [
              "              Id  ...         Tag\n",
              "0            260  ...          c#\n",
              "1            330  ...         c++\n",
              "2            650  ...          c#\n",
              "3            930  ...          c#\n",
              "4           1010  ...          c#\n",
              "...          ...  ...         ...\n",
              "826734  40143150  ...  javascript\n",
              "826735  40143190  ...      python\n",
              "826736  40143210  ...         php\n",
              "826737  40143340  ...     android\n",
              "826738  40143360  ...  javascript\n",
              "\n",
              "[826739 rows x 9 columns]"
            ]
          },
          "metadata": {
            "tags": []
          },
          "execution_count": 32
        }
      ]
    },
    {
      "cell_type": "code",
      "metadata": {
        "id": "IwFyNaYYzgQE"
      },
      "source": [
        "questions_data_top_10.drop(['OwnerUserId','CreationDate','ClosedDate','Score','Title','Body'],axis=1,inplace=True)\n"
      ],
      "execution_count": 33,
      "outputs": []
    },
    {
      "cell_type": "code",
      "metadata": {
        "id": "sv1D32J1zkAh"
      },
      "source": [
        "tag_data = pd.DataFrame(questions_data_top_10['Tag'])#\n"
      ],
      "execution_count": 34,
      "outputs": []
    },
    {
      "cell_type": "code",
      "metadata": {
        "id": "HUNTq1JHzn-1"
      },
      "source": [
        "tag_data.to_csv('tag_data.csv')\n"
      ],
      "execution_count": 35,
      "outputs": []
    },
    {
      "cell_type": "code",
      "metadata": {
        "id": "mg6r3o4uzruG"
      },
      "source": [
        "\n",
        "from keras.preprocessing.text import Tokenizer\n",
        "from keras.preprocessing.sequence import pad_sequences\n",
        "from sklearn.preprocessing import MultiLabelBinarizer"
      ],
      "execution_count": 36,
      "outputs": []
    },
    {
      "cell_type": "code",
      "metadata": {
        "colab": {
          "base_uri": "https://localhost:8080/"
        },
        "id": "sOJMC1kU0Fzo",
        "outputId": "a1f530a9-57cc-4f21-eeb3-73191002ff9b"
      },
      "source": [
        "multiLableBinarizer = MultiLabelBinarizer()\n",
        "multiLableBinarizer.fit([questions_data_top_10.Tag])\n"
      ],
      "execution_count": 37,
      "outputs": [
        {
          "output_type": "execute_result",
          "data": {
            "text/plain": [
              "MultiLabelBinarizer(classes=None, sparse_output=False)"
            ]
          },
          "metadata": {
            "tags": []
          },
          "execution_count": 37
        }
      ]
    },
    {
      "cell_type": "code",
      "metadata": {
        "colab": {
          "base_uri": "https://localhost:8080/"
        },
        "id": "I30ukPXY0JX_",
        "outputId": "48995227-d1f6-485c-9e29-851543cfc3cf"
      },
      "source": [
        "\n",
        "Labels = multiLableBinarizer.classes_\n",
        "Labels"
      ],
      "execution_count": 38,
      "outputs": [
        {
          "output_type": "execute_result",
          "data": {
            "text/plain": [
              "array(['android', 'c#', 'c++', 'html', 'ios', 'java', 'javascript',\n",
              "       'jquery', 'php', 'python'], dtype=object)"
            ]
          },
          "metadata": {
            "tags": []
          },
          "execution_count": 38
        }
      ]
    },
    {
      "cell_type": "code",
      "metadata": {
        "id": "BwbgGfMR0NO0"
      },
      "source": [
        "sam = multiLableBinarizer.transform(questions_data_top_10.Tag)\n"
      ],
      "execution_count": 39,
      "outputs": []
    },
    {
      "cell_type": "code",
      "metadata": {
        "colab": {
          "base_uri": "https://localhost:8080/"
        },
        "id": "-A2F0Kso0Q1C",
        "outputId": "d375cad2-a573-4973-ceb9-02a46414858b"
      },
      "source": [
        "sam\n"
      ],
      "execution_count": 40,
      "outputs": [
        {
          "output_type": "execute_result",
          "data": {
            "text/plain": [
              "array([[0, 0, 0, ..., 0, 0, 0],\n",
              "       [0, 0, 0, ..., 0, 0, 0],\n",
              "       [0, 0, 0, ..., 0, 0, 0],\n",
              "       ...,\n",
              "       [0, 0, 0, ..., 0, 0, 0],\n",
              "       [0, 0, 0, ..., 0, 0, 0],\n",
              "       [0, 0, 0, ..., 0, 0, 0]])"
            ]
          },
          "metadata": {
            "tags": []
          },
          "execution_count": 40
        }
      ]
    },
    {
      "cell_type": "code",
      "metadata": {
        "id": "8crjbUp70UAv"
      },
      "source": [
        "y = pd.get_dummies(questions_data_top_10.Tag).to_numpy()\n"
      ],
      "execution_count": 41,
      "outputs": []
    },
    {
      "cell_type": "code",
      "metadata": {
        "id": "349c_U8v0ZpN"
      },
      "source": [
        "maxlen = 180\n",
        "max_words = 5000\n",
        "tokenizer = Tokenizer(num_words=max_words, lower=True)\n",
        "tokenizer.fit_on_texts(questions_data_top_10.Text)"
      ],
      "execution_count": 42,
      "outputs": []
    },
    {
      "cell_type": "code",
      "metadata": {
        "id": "CoDoN3am0l_g"
      },
      "source": [
        "def get_features(text_series):\n",
        "    \"\"\"\n",
        "    transforms text data to feature_vectors that can be used in the ml model.\n",
        "    tokenizer must be available.\n",
        "    \"\"\"\n",
        "    sequences = tokenizer.texts_to_sequences(text_series)\n",
        "    return pad_sequences(sequences, maxlen=maxlen)\n",
        "\n",
        "def prediction_to_label(prediction):\n",
        "    tag_prob = [(labels[i], prob) for i, prob in enumerate(prediction.tolist())]\n",
        "    return dict(sorted(tag_prob, key=lambda kv: kv[1], reverse=True))"
      ],
      "execution_count": 43,
      "outputs": []
    },
    {
      "cell_type": "code",
      "metadata": {
        "id": "wz8KWuHU0s-z"
      },
      "source": [
        "from sklearn.model_selection import train_test_split\n",
        "#from sklearn.preprocessing import OneHotEncoder\n",
        "#enc = OneHotEncoder(handle_unknown='ignore')\n",
        "\n",
        "x = get_features(questions_data_top_10.Text)"
      ],
      "execution_count": 44,
      "outputs": []
    },
    {
      "cell_type": "code",
      "metadata": {
        "colab": {
          "base_uri": "https://localhost:8080/"
        },
        "id": "_ysoG7NR0wfs",
        "outputId": "07695f89-6a09-41fe-ee34-09562be91eef"
      },
      "source": [
        "x.shape\n"
      ],
      "execution_count": 45,
      "outputs": [
        {
          "output_type": "execute_result",
          "data": {
            "text/plain": [
              "(826739, 180)"
            ]
          },
          "metadata": {
            "tags": []
          },
          "execution_count": 45
        }
      ]
    },
    {
      "cell_type": "code",
      "metadata": {
        "colab": {
          "base_uri": "https://localhost:8080/"
        },
        "id": "FTzeCasz00tp",
        "outputId": "8587cfe6-b4aa-42ae-c03c-1e24c18dc5ae"
      },
      "source": [
        "y.shape\n"
      ],
      "execution_count": 46,
      "outputs": [
        {
          "output_type": "execute_result",
          "data": {
            "text/plain": [
              "(826739, 10)"
            ]
          },
          "metadata": {
            "tags": []
          },
          "execution_count": 46
        }
      ]
    },
    {
      "cell_type": "code",
      "metadata": {
        "id": "xoUFJ_CU03ZP"
      },
      "source": [
        "x_train, x_test, y_train, y_test = train_test_split(x, y, test_size=0.2, random_state=0)\n"
      ],
      "execution_count": 47,
      "outputs": []
    },
    {
      "cell_type": "code",
      "metadata": {
        "colab": {
          "base_uri": "https://localhost:8080/"
        },
        "id": "IROvcxF506bT",
        "outputId": "5526b84f-6301-45cd-ece3-db2d0e775b6e"
      },
      "source": [
        "from tensorflow.keras.layers import LSTM, Activation, Dense, Dropout, Input, Embedding\n",
        "from tensorflow.keras.models import Sequential\n",
        "from tensorflow.keras.layers import Dense, Activation, Embedding, Flatten, GlobalMaxPool1D, Dropout, Conv1D\n",
        "from tensorflow.keras.callbacks import ReduceLROnPlateau, EarlyStopping, ModelCheckpoint\n",
        "from tensorflow.keras.losses import binary_crossentropy\n",
        "from tensorflow.keras.optimizers import Adam\n",
        "from tensorflow.keras.models import Model\n",
        "\n",
        "filter_length = 300\n",
        "\n",
        "model = Sequential()\n",
        "model.add(Embedding(max_words, 20, input_length=maxlen))\n",
        "model.add(Dropout(0.1))\n",
        "model.add(Conv1D(filter_length, 3, padding='valid', activation='relu', strides=1))\n",
        "model.add(GlobalMaxPool1D())\n",
        "model.add(Dense(num_classes))\n",
        "model.add(Activation('sigmoid'))\n",
        "\n",
        "model.compile(optimizer='adam', loss='binary_crossentropy', metrics=['categorical_accuracy'])\n",
        "model.summary()"
      ],
      "execution_count": 48,
      "outputs": [
        {
          "output_type": "stream",
          "text": [
            "Model: \"sequential\"\n",
            "_________________________________________________________________\n",
            "Layer (type)                 Output Shape              Param #   \n",
            "=================================================================\n",
            "embedding (Embedding)        (None, 180, 20)           100000    \n",
            "_________________________________________________________________\n",
            "dropout (Dropout)            (None, 180, 20)           0         \n",
            "_________________________________________________________________\n",
            "conv1d (Conv1D)              (None, 178, 300)          18300     \n",
            "_________________________________________________________________\n",
            "global_max_pooling1d (Global (None, 300)               0         \n",
            "_________________________________________________________________\n",
            "dense (Dense)                (None, 10)                3010      \n",
            "_________________________________________________________________\n",
            "activation (Activation)      (None, 10)                0         \n",
            "=================================================================\n",
            "Total params: 121,310\n",
            "Trainable params: 121,310\n",
            "Non-trainable params: 0\n",
            "_________________________________________________________________\n"
          ],
          "name": "stdout"
        }
      ]
    },
    {
      "cell_type": "code",
      "metadata": {
        "colab": {
          "base_uri": "https://localhost:8080/"
        },
        "id": "iMJAoor31HbS",
        "outputId": "8c978e32-ac54-4d11-9f95-d2b5b131da7f"
      },
      "source": [
        "history=model.fit(x_train,y_train,epochs=7,validation_split=0.2)\n"
      ],
      "execution_count": 61,
      "outputs": [
        {
          "output_type": "stream",
          "text": [
            "Epoch 1/7\n",
            "16535/16535 [==============================] - 564s 34ms/step - loss: 0.1039 - categorical_accuracy: 0.7780 - val_loss: 0.1080 - val_categorical_accuracy: 0.7651\n",
            "Epoch 2/7\n",
            "16535/16535 [==============================] - 577s 35ms/step - loss: 0.1036 - categorical_accuracy: 0.7792 - val_loss: 0.1076 - val_categorical_accuracy: 0.7686\n",
            "Epoch 3/7\n",
            "16535/16535 [==============================] - 570s 34ms/step - loss: 0.1034 - categorical_accuracy: 0.7792 - val_loss: 0.1088 - val_categorical_accuracy: 0.7652\n",
            "Epoch 4/7\n",
            "16535/16535 [==============================] - 567s 34ms/step - loss: 0.1031 - categorical_accuracy: 0.7803 - val_loss: 0.1093 - val_categorical_accuracy: 0.7627\n",
            "Epoch 5/7\n",
            "16535/16535 [==============================] - 561s 34ms/step - loss: 0.1029 - categorical_accuracy: 0.7804 - val_loss: 0.1088 - val_categorical_accuracy: 0.7643\n",
            "Epoch 6/7\n",
            "16535/16535 [==============================] - 566s 34ms/step - loss: 0.1027 - categorical_accuracy: 0.7808 - val_loss: 0.1086 - val_categorical_accuracy: 0.7666\n",
            "Epoch 7/7\n",
            "16535/16535 [==============================] - 567s 34ms/step - loss: 0.1024 - categorical_accuracy: 0.7810 - val_loss: 0.1105 - val_categorical_accuracy: 0.7537\n"
          ],
          "name": "stdout"
        }
      ]
    },
    {
      "cell_type": "code",
      "metadata": {
        "id": "RpsCi4xwPxm4"
      },
      "source": [
        ""
      ],
      "execution_count": null,
      "outputs": []
    },
    {
      "cell_type": "code",
      "metadata": {
        "id": "JgEyY4lt1LGM"
      },
      "source": [
        "y_pred = model.predict_classes(x_test)\n"
      ],
      "execution_count": 62,
      "outputs": []
    },
    {
      "cell_type": "code",
      "metadata": {
        "colab": {
          "base_uri": "https://localhost:8080/"
        },
        "id": "r9MrUhKk1PXs",
        "outputId": "97518621-8b08-402a-e200-929534ed542f"
      },
      "source": [
        "y_pred\n"
      ],
      "execution_count": 63,
      "outputs": [
        {
          "output_type": "execute_result",
          "data": {
            "text/plain": [
              "array([3, 0, 1, ..., 9, 9, 0])"
            ]
          },
          "metadata": {
            "tags": []
          },
          "execution_count": 63
        }
      ]
    },
    {
      "cell_type": "code",
      "metadata": {
        "colab": {
          "base_uri": "https://localhost:8080/"
        },
        "id": "F4GsWPrS1RzE",
        "outputId": "b594a65e-9894-4dd5-df21-2657b5a46992"
      },
      "source": [
        "model.evaluate(x_test,y_test)\n"
      ],
      "execution_count": 64,
      "outputs": [
        {
          "output_type": "stream",
          "text": [
            "5168/5168 [==============================] - 40s 8ms/step - loss: 0.1106 - categorical_accuracy: 0.7528\n"
          ],
          "name": "stdout"
        },
        {
          "output_type": "execute_result",
          "data": {
            "text/plain": [
              "[0.11056437343358994, 0.7527698874473572]"
            ]
          },
          "metadata": {
            "tags": []
          },
          "execution_count": 64
        }
      ]
    },
    {
      "cell_type": "code",
      "metadata": {
        "id": "h1cW-C1uYbtj"
      },
      "source": [
        "import matplotlib.pyplot as plt\n"
      ],
      "execution_count": 65,
      "outputs": []
    },
    {
      "cell_type": "code",
      "metadata": {
        "colab": {
          "base_uri": "https://localhost:8080/",
          "height": 545
        },
        "id": "Ele71Vy61UMK",
        "outputId": "2b148d4c-1472-445b-8d13-a7df9f1d6339"
      },
      "source": [
        "# Plot results\n",
        "acc = history.history['categorical_accuracy']\n",
        "val_acc = history.history['val_categorical_accuracy']\n",
        "loss = history.history['loss']\n",
        "val_loss = history.history['val_loss']\n",
        "\n",
        "epochs = range(1, len(acc)+1)\n",
        "\n",
        "plt.plot(epochs, acc, 'g', label='Training accuracy')\n",
        "plt.plot(epochs, val_acc, 'r', label='Validation accuracy')\n",
        "plt.title('Training and validation accuracy')\n",
        "plt.legend()\n",
        "\n",
        "plt.figure()\n",
        "\n",
        "plt.plot(epochs, loss, 'g', label='Training loss')\n",
        "plt.plot(epochs, val_loss, 'r', label='Validation loss')\n",
        "plt.title('Training and validation loss')\n",
        "plt.legend()\n",
        "\n",
        "plt.show()"
      ],
      "execution_count": 66,
      "outputs": [
        {
          "output_type": "display_data",
          "data": {
            "image/png": "[encoded data removed]",
            "text/plain": [
              "<Figure size 432x288 with 1 Axes>"
            ]
          },
          "metadata": {
            "tags": [],
            "needs_background": "light"
          }
        },
        {
          "output_type": "display_data",
          "data": {
            "image/png": "[encoded data removed]",
            "text/plain": [
              "<Figure size 432x288 with 1 Axes>"
            ]
          },
          "metadata": {
            "tags": [],
            "needs_background": "light"
          }
        }
      ]
    },
    {
      "cell_type": "code",
      "metadata": {
        "id": "NBqPPV4-P_-R"
      },
      "source": [
        ""
      ],
      "execution_count": null,
      "outputs": []
    }
  ]
}
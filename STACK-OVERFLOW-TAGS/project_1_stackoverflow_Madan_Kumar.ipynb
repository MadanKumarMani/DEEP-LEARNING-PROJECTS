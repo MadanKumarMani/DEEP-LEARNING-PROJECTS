{
  "nbformat": 4,
  "nbformat_minor": 0,
  "metadata": {
    "accelerator": "GPU",
    "colab": {
      "name": "project_1_stackoverflow_Madan_Kumar.ipynb",
      "provenance": [],
      "collapsed_sections": []
    },
    "kernelspec": {
      "display_name": "Python 3",
      "name": "python3"
    }
  },
  "cells": [
    {
      "cell_type": "code",
      "metadata": {
        "id": "PlbvnwFjw1S7"
      },
      "source": [
        "%tensorflow_version 2.x\n"
      ],
      "execution_count": 1,
      "outputs": []
    },
    {
      "cell_type": "code",
      "metadata": {
        "id": "ncvr6oV-wt7p"
      },
      "source": [
        "\n",
        "import pandas as pd\n",
        "import numpy as np\n",
        "import warnings\n",
        "warnings.filterwarnings('ignore')"
      ],
      "execution_count": 2,
      "outputs": []
    },
    {
      "cell_type": "code",
      "metadata": {
        "colab": {
          "base_uri": "https://localhost:8080/"
        },
        "id": "47ARAUXEwsaO",
        "outputId": "988e2adc-d381-4dea-f0e6-dfc3bef0234a"
      },
      "source": [
        "!wget https://www.dropbox.com/s/5721wcs2guuykzl/stacksample.zip?dl=0\n"
      ],
      "execution_count": 3,
      "outputs": [
        {
          "output_type": "stream",
          "text": [
            "--2020-12-10 18:54:09--  https://www.dropbox.com/s/5721wcs2guuykzl/stacksample.zip?dl=0\n",
            "Resolving www.dropbox.com (www.dropbox.com)... 162.125.6.1, 2620:100:6019:18::a27d:412\n",
            "Connecting to www.dropbox.com (www.dropbox.com)|162.125.6.1|:443... connected.\n",
            "HTTP request sent, awaiting response... 301 Moved Permanently\n",
            "Location: /s/raw/5721wcs2guuykzl/stacksample.zip [following]\n",
            "--2020-12-10 18:54:09--  https://www.dropbox.com/s/raw/5721wcs2guuykzl/stacksample.zip\n",
            "Reusing existing connection to www.dropbox.com:443.\n",
            "HTTP request sent, awaiting response... 302 Found\n",
            "Location: https://ucd3359f16d3ab92bb17c091c7ce.dl.dropboxusercontent.com/cd/0/inline/BE31jamMPQ614IousX79u213HWbi9faBTasHUmb_uVr3f1YPTyeQioniu3A9BbPeMJdPgQhzcSdBdGyuIXt-_-v0CkMOMiC8mjWxsLf6GuEOdw/file# [following]\n",
            "--2020-12-10 18:54:09--  https://ucd3359f16d3ab92bb17c091c7ce.dl.dropboxusercontent.com/cd/0/inline/BE31jamMPQ614IousX79u213HWbi9faBTasHUmb_uVr3f1YPTyeQioniu3A9BbPeMJdPgQhzcSdBdGyuIXt-_-v0CkMOMiC8mjWxsLf6GuEOdw/file\n",
            "Resolving ucd3359f16d3ab92bb17c091c7ce.dl.dropboxusercontent.com (ucd3359f16d3ab92bb17c091c7ce.dl.dropboxusercontent.com)... 162.125.6.15, 2620:100:6019:15::a27d:40f\n",
            "Connecting to ucd3359f16d3ab92bb17c091c7ce.dl.dropboxusercontent.com (ucd3359f16d3ab92bb17c091c7ce.dl.dropboxusercontent.com)|162.125.6.15|:443... connected.\n",
            "HTTP request sent, awaiting response... 302 Found\n",
            "Location: /cd/0/inline2/BE0kQ8UoOrGOdGfXmupuUKKQX_nX6aRQKaGQk9jx4VYKtXSUsZXzpqgDjMxXFTGTbVt9t_K-erWlncKHbH7ZdwhH1kqX-NivR04znmJ2bDwzJF_gUzwkQfEInUADXCo2CFcqx-EZz9H6Pwdep1m12S9am-Y8hUKCHHWDZopNDMOOyW4L7XCIqeHiocsfWaKdvvVD3M1bFtyBUfgALPVsIt2oVr4UP1MeETM1PW4e5ZfsIuWqzQ6NBrXjCPo6fC2_lks3BTXyExN04miZxFGVzTIB43qwPtjHQvWMRUL6JN9DsRRJbQbKDQ3W2ZEQx0cRg54iZEt1si881pK91J7VjVum/file [following]\n",
            "--2020-12-10 18:54:10--  https://ucd3359f16d3ab92bb17c091c7ce.dl.dropboxusercontent.com/cd/0/inline2/BE0kQ8UoOrGOdGfXmupuUKKQX_nX6aRQKaGQk9jx4VYKtXSUsZXzpqgDjMxXFTGTbVt9t_K-erWlncKHbH7ZdwhH1kqX-NivR04znmJ2bDwzJF_gUzwkQfEInUADXCo2CFcqx-EZz9H6Pwdep1m12S9am-Y8hUKCHHWDZopNDMOOyW4L7XCIqeHiocsfWaKdvvVD3M1bFtyBUfgALPVsIt2oVr4UP1MeETM1PW4e5ZfsIuWqzQ6NBrXjCPo6fC2_lks3BTXyExN04miZxFGVzTIB43qwPtjHQvWMRUL6JN9DsRRJbQbKDQ3W2ZEQx0cRg54iZEt1si881pK91J7VjVum/file\n",
            "Reusing existing connection to ucd3359f16d3ab92bb17c091c7ce.dl.dropboxusercontent.com:443.\n",
            "HTTP request sent, awaiting response... 200 OK\n",
            "Length: 1231288519 (1.1G) [application/zip]\n",
            "Saving to: ‘stacksample.zip?dl=0’\n",
            "\n",
            "stacksample.zip?dl= 100%[===================>]   1.15G   117MB/s    in 9.5s    \n",
            "\n",
            "2020-12-10 18:54:20 (123 MB/s) - ‘stacksample.zip?dl=0’ saved [1231288519/1231288519]\n",
            "\n"
          ],
          "name": "stdout"
        }
      ]
    },
    {
      "cell_type": "code",
      "metadata": {
        "colab": {
          "base_uri": "https://localhost:8080/"
        },
        "id": "oCqBJbbBw7Sn",
        "outputId": "975bdfac-d6d6-4d65-f031-b58affacb5f5"
      },
      "source": [
        "!unzip '/content/stacksample.zip?dl=0'\n"
      ],
      "execution_count": 4,
      "outputs": [
        {
          "output_type": "stream",
          "text": [
            "Archive:  /content/stacksample.zip?dl=0\n",
            "  inflating: Answers.csv             \n",
            "  inflating: Questions.csv           \n",
            "  inflating: Tags.csv                \n"
          ],
          "name": "stdout"
        }
      ]
    },
    {
      "cell_type": "code",
      "metadata": {
        "id": "xY2hYwccxD-G"
      },
      "source": [
        "\n",
        "questions = r'/content/Questions.csv'\n",
        "answers = r'/content/Answers.csv'\n",
        "tags = r'/content/Tags.csv'"
      ],
      "execution_count": 5,
      "outputs": []
    },
    {
      "cell_type": "code",
      "metadata": {
        "id": "mKhqa25gxOkO"
      },
      "source": [
        "questions_data = pd.read_csv(questions,encoding ='latin 1' )\n",
        "answers_data = pd.read_csv(answers,encoding ='latin 1')\n",
        "tags_data = pd.read_csv(tags,encoding ='latin 1')"
      ],
      "execution_count": 6,
      "outputs": []
    },
    {
      "cell_type": "code",
      "metadata": {
        "colab": {
          "base_uri": "https://localhost:8080/",
          "height": 111
        },
        "id": "5fAFkbkpxP3E",
        "outputId": "f87f3eff-59f1-4c66-c2d5-945f545a1f1c"
      },
      "source": [
        "questions_data.head(n=2)\n"
      ],
      "execution_count": 7,
      "outputs": [
        {
          "output_type": "execute_result",
          "data": {
            "text/html": [
              "<div>\n",
              "<style scoped>\n",
              "    .dataframe tbody tr th:only-of-type {\n",
              "        vertical-align: middle;\n",
              "    }\n",
              "\n",
              "    .dataframe tbody tr th {\n",
              "        vertical-align: top;\n",
              "    }\n",
              "\n",
              "    .dataframe thead th {\n",
              "        text-align: right;\n",
              "    }\n",
              "</style>\n",
              "<table border=\"1\" class=\"dataframe\">\n",
              "  <thead>\n",
              "    <tr style=\"text-align: right;\">\n",
              "      <th></th>\n",
              "      <th>Id</th>\n",
              "      <th>OwnerUserId</th>\n",
              "      <th>CreationDate</th>\n",
              "      <th>ClosedDate</th>\n",
              "      <th>Score</th>\n",
              "      <th>Title</th>\n",
              "      <th>Body</th>\n",
              "    </tr>\n",
              "  </thead>\n",
              "  <tbody>\n",
              "    <tr>\n",
              "      <th>0</th>\n",
              "      <td>80</td>\n",
              "      <td>26.0</td>\n",
              "      <td>2008-08-01T13:57:07Z</td>\n",
              "      <td>NaN</td>\n",
              "      <td>26</td>\n",
              "      <td>SQLStatement.execute() - multiple queries in o...</td>\n",
              "      <td>&lt;p&gt;I've written a database generation script i...</td>\n",
              "    </tr>\n",
              "    <tr>\n",
              "      <th>1</th>\n",
              "      <td>90</td>\n",
              "      <td>58.0</td>\n",
              "      <td>2008-08-01T14:41:24Z</td>\n",
              "      <td>2012-12-26T03:45:49Z</td>\n",
              "      <td>144</td>\n",
              "      <td>Good branching and merging tutorials for Torto...</td>\n",
              "      <td>&lt;p&gt;Are there any really good tutorials explain...</td>\n",
              "    </tr>\n",
              "  </tbody>\n",
              "</table>\n",
              "</div>"
            ],
            "text/plain": [
              "   Id  ...                                               Body\n",
              "0  80  ...  <p>I've written a database generation script i...\n",
              "1  90  ...  <p>Are there any really good tutorials explain...\n",
              "\n",
              "[2 rows x 7 columns]"
            ]
          },
          "metadata": {
            "tags": []
          },
          "execution_count": 7
        }
      ]
    },
    {
      "cell_type": "code",
      "metadata": {
        "colab": {
          "base_uri": "https://localhost:8080/",
          "height": 111
        },
        "id": "gIOKOx3bxTTm",
        "outputId": "f40f9d76-49a6-4a17-c720-df10dd55a81c"
      },
      "source": [
        "tags_data.head(2)\n"
      ],
      "execution_count": 8,
      "outputs": [
        {
          "output_type": "execute_result",
          "data": {
            "text/html": [
              "<div>\n",
              "<style scoped>\n",
              "    .dataframe tbody tr th:only-of-type {\n",
              "        vertical-align: middle;\n",
              "    }\n",
              "\n",
              "    .dataframe tbody tr th {\n",
              "        vertical-align: top;\n",
              "    }\n",
              "\n",
              "    .dataframe thead th {\n",
              "        text-align: right;\n",
              "    }\n",
              "</style>\n",
              "<table border=\"1\" class=\"dataframe\">\n",
              "  <thead>\n",
              "    <tr style=\"text-align: right;\">\n",
              "      <th></th>\n",
              "      <th>Id</th>\n",
              "      <th>Tag</th>\n",
              "    </tr>\n",
              "  </thead>\n",
              "  <tbody>\n",
              "    <tr>\n",
              "      <th>0</th>\n",
              "      <td>80</td>\n",
              "      <td>flex</td>\n",
              "    </tr>\n",
              "    <tr>\n",
              "      <th>1</th>\n",
              "      <td>80</td>\n",
              "      <td>actionscript-3</td>\n",
              "    </tr>\n",
              "  </tbody>\n",
              "</table>\n",
              "</div>"
            ],
            "text/plain": [
              "   Id             Tag\n",
              "0  80            flex\n",
              "1  80  actionscript-3"
            ]
          },
          "metadata": {
            "tags": []
          },
          "execution_count": 8
        }
      ]
    },
    {
      "cell_type": "code",
      "metadata": {
        "id": "tIYysvZjxXzN"
      },
      "source": [
        "grouped_tags = tags_data.groupby(\"Tag\", sort='count').size().reset_index(name='count')\n"
      ],
      "execution_count": 9,
      "outputs": []
    },
    {
      "cell_type": "code",
      "metadata": {
        "colab": {
          "base_uri": "https://localhost:8080/",
          "height": 419
        },
        "id": "nyPNX7kwxbcE",
        "outputId": "21917c0b-0a6d-471a-f41f-241f5df53f14"
      },
      "source": [
        "grouped_tags\n"
      ],
      "execution_count": 10,
      "outputs": [
        {
          "output_type": "execute_result",
          "data": {
            "text/html": [
              "<div>\n",
              "<style scoped>\n",
              "    .dataframe tbody tr th:only-of-type {\n",
              "        vertical-align: middle;\n",
              "    }\n",
              "\n",
              "    .dataframe tbody tr th {\n",
              "        vertical-align: top;\n",
              "    }\n",
              "\n",
              "    .dataframe thead th {\n",
              "        text-align: right;\n",
              "    }\n",
              "</style>\n",
              "<table border=\"1\" class=\"dataframe\">\n",
              "  <thead>\n",
              "    <tr style=\"text-align: right;\">\n",
              "      <th></th>\n",
              "      <th>Tag</th>\n",
              "      <th>count</th>\n",
              "    </tr>\n",
              "  </thead>\n",
              "  <tbody>\n",
              "    <tr>\n",
              "      <th>0</th>\n",
              "      <td>.a</td>\n",
              "      <td>13</td>\n",
              "    </tr>\n",
              "    <tr>\n",
              "      <th>1</th>\n",
              "      <td>.app</td>\n",
              "      <td>14</td>\n",
              "    </tr>\n",
              "    <tr>\n",
              "      <th>2</th>\n",
              "      <td>.aspxauth</td>\n",
              "      <td>6</td>\n",
              "    </tr>\n",
              "    <tr>\n",
              "      <th>3</th>\n",
              "      <td>.bash-profile</td>\n",
              "      <td>46</td>\n",
              "    </tr>\n",
              "    <tr>\n",
              "      <th>4</th>\n",
              "      <td>.class-file</td>\n",
              "      <td>19</td>\n",
              "    </tr>\n",
              "    <tr>\n",
              "      <th>...</th>\n",
              "      <td>...</td>\n",
              "      <td>...</td>\n",
              "    </tr>\n",
              "    <tr>\n",
              "      <th>37029</th>\n",
              "      <td>zwoptex</td>\n",
              "      <td>3</td>\n",
              "    </tr>\n",
              "    <tr>\n",
              "      <th>37030</th>\n",
              "      <td>zxing</td>\n",
              "      <td>159</td>\n",
              "    </tr>\n",
              "    <tr>\n",
              "      <th>37031</th>\n",
              "      <td>zxspectrum</td>\n",
              "      <td>1</td>\n",
              "    </tr>\n",
              "    <tr>\n",
              "      <th>37032</th>\n",
              "      <td>zynq</td>\n",
              "      <td>11</td>\n",
              "    </tr>\n",
              "    <tr>\n",
              "      <th>37033</th>\n",
              "      <td>zypper</td>\n",
              "      <td>2</td>\n",
              "    </tr>\n",
              "  </tbody>\n",
              "</table>\n",
              "<p>37034 rows × 2 columns</p>\n",
              "</div>"
            ],
            "text/plain": [
              "                 Tag  count\n",
              "0                 .a     13\n",
              "1               .app     14\n",
              "2          .aspxauth      6\n",
              "3      .bash-profile     46\n",
              "4        .class-file     19\n",
              "...              ...    ...\n",
              "37029        zwoptex      3\n",
              "37030          zxing    159\n",
              "37031     zxspectrum      1\n",
              "37032           zynq     11\n",
              "37033         zypper      2\n",
              "\n",
              "[37034 rows x 2 columns]"
            ]
          },
          "metadata": {
            "tags": []
          },
          "execution_count": 10
        }
      ]
    },
    {
      "cell_type": "code",
      "metadata": {
        "colab": {
          "base_uri": "https://localhost:8080/"
        },
        "id": "63T-SENLxewl",
        "outputId": "bf4c35d0-1bf1-4797-dc61-130a2581a78c"
      },
      "source": [
        "grouped_tags.Tag.describe()\n"
      ],
      "execution_count": 11,
      "outputs": [
        {
          "output_type": "execute_result",
          "data": {
            "text/plain": [
              "count          37034\n",
              "unique         37034\n",
              "top       evaluation\n",
              "freq               1\n",
              "Name: Tag, dtype: object"
            ]
          },
          "metadata": {
            "tags": []
          },
          "execution_count": 11
        }
      ]
    },
    {
      "cell_type": "code",
      "metadata": {
        "id": "ZCmWfEPLxjdH"
      },
      "source": [
        "\n",
        "#Reducing the problem to the most common tags in the dataset\n",
        "num_classes = 10\n",
        "grouped_tags_1 = tags_data.groupby(\"Tag\").size().reset_index(name='count')\n",
        "top_10_tags = grouped_tags_1.nlargest(num_classes,columns=\"count\")"
      ],
      "execution_count": 12,
      "outputs": []
    },
    {
      "cell_type": "code",
      "metadata": {
        "colab": {
          "base_uri": "https://localhost:8080/",
          "height": 359
        },
        "id": "bRJ1eizwxpTW",
        "outputId": "01d8d435-ee4b-4a12-af17-8a6a6adad033"
      },
      "source": [
        "top_10_tags\n"
      ],
      "execution_count": 13,
      "outputs": [
        {
          "output_type": "execute_result",
          "data": {
            "text/html": [
              "<div>\n",
              "<style scoped>\n",
              "    .dataframe tbody tr th:only-of-type {\n",
              "        vertical-align: middle;\n",
              "    }\n",
              "\n",
              "    .dataframe tbody tr th {\n",
              "        vertical-align: top;\n",
              "    }\n",
              "\n",
              "    .dataframe thead th {\n",
              "        text-align: right;\n",
              "    }\n",
              "</style>\n",
              "<table border=\"1\" class=\"dataframe\">\n",
              "  <thead>\n",
              "    <tr style=\"text-align: right;\">\n",
              "      <th></th>\n",
              "      <th>Tag</th>\n",
              "      <th>count</th>\n",
              "    </tr>\n",
              "  </thead>\n",
              "  <tbody>\n",
              "    <tr>\n",
              "      <th>16121</th>\n",
              "      <td>javascript</td>\n",
              "      <td>124155</td>\n",
              "    </tr>\n",
              "    <tr>\n",
              "      <th>16020</th>\n",
              "      <td>java</td>\n",
              "      <td>115212</td>\n",
              "    </tr>\n",
              "    <tr>\n",
              "      <th>4301</th>\n",
              "      <td>c#</td>\n",
              "      <td>101186</td>\n",
              "    </tr>\n",
              "    <tr>\n",
              "      <th>24211</th>\n",
              "      <td>php</td>\n",
              "      <td>98808</td>\n",
              "    </tr>\n",
              "    <tr>\n",
              "      <th>979</th>\n",
              "      <td>android</td>\n",
              "      <td>90659</td>\n",
              "    </tr>\n",
              "    <tr>\n",
              "      <th>16611</th>\n",
              "      <td>jquery</td>\n",
              "      <td>78542</td>\n",
              "    </tr>\n",
              "    <tr>\n",
              "      <th>25712</th>\n",
              "      <td>python</td>\n",
              "      <td>64601</td>\n",
              "    </tr>\n",
              "    <tr>\n",
              "      <th>14180</th>\n",
              "      <td>html</td>\n",
              "      <td>58976</td>\n",
              "    </tr>\n",
              "    <tr>\n",
              "      <th>4311</th>\n",
              "      <td>c++</td>\n",
              "      <td>47591</td>\n",
              "    </tr>\n",
              "    <tr>\n",
              "      <th>15565</th>\n",
              "      <td>ios</td>\n",
              "      <td>47009</td>\n",
              "    </tr>\n",
              "  </tbody>\n",
              "</table>\n",
              "</div>"
            ],
            "text/plain": [
              "              Tag   count\n",
              "16121  javascript  124155\n",
              "16020        java  115212\n",
              "4301           c#  101186\n",
              "24211         php   98808\n",
              "979       android   90659\n",
              "16611      jquery   78542\n",
              "25712      python   64601\n",
              "14180        html   58976\n",
              "4311          c++   47591\n",
              "15565         ios   47009"
            ]
          },
          "metadata": {
            "tags": []
          },
          "execution_count": 13
        }
      ]
    },
    {
      "cell_type": "code",
      "metadata": {
        "id": "j2eSMa5fxsWB"
      },
      "source": [
        "tags_data.Tag = tags_data.Tag.apply(lambda tag : tag if tag in top_10_tags.Tag.values else None)\n"
      ],
      "execution_count": 14,
      "outputs": []
    },
    {
      "cell_type": "code",
      "metadata": {
        "colab": {
          "base_uri": "https://localhost:8080/",
          "height": 419
        },
        "id": "8DBlEKExxwsN",
        "outputId": "b9a1f419-e9aa-44d6-d17f-323ddc5cfbff"
      },
      "source": [
        "tags_data\n"
      ],
      "execution_count": 15,
      "outputs": [
        {
          "output_type": "execute_result",
          "data": {
            "text/html": [
              "<div>\n",
              "<style scoped>\n",
              "    .dataframe tbody tr th:only-of-type {\n",
              "        vertical-align: middle;\n",
              "    }\n",
              "\n",
              "    .dataframe tbody tr th {\n",
              "        vertical-align: top;\n",
              "    }\n",
              "\n",
              "    .dataframe thead th {\n",
              "        text-align: right;\n",
              "    }\n",
              "</style>\n",
              "<table border=\"1\" class=\"dataframe\">\n",
              "  <thead>\n",
              "    <tr style=\"text-align: right;\">\n",
              "      <th></th>\n",
              "      <th>Id</th>\n",
              "      <th>Tag</th>\n",
              "    </tr>\n",
              "  </thead>\n",
              "  <tbody>\n",
              "    <tr>\n",
              "      <th>0</th>\n",
              "      <td>80</td>\n",
              "      <td>None</td>\n",
              "    </tr>\n",
              "    <tr>\n",
              "      <th>1</th>\n",
              "      <td>80</td>\n",
              "      <td>None</td>\n",
              "    </tr>\n",
              "    <tr>\n",
              "      <th>2</th>\n",
              "      <td>80</td>\n",
              "      <td>None</td>\n",
              "    </tr>\n",
              "    <tr>\n",
              "      <th>3</th>\n",
              "      <td>90</td>\n",
              "      <td>None</td>\n",
              "    </tr>\n",
              "    <tr>\n",
              "      <th>4</th>\n",
              "      <td>90</td>\n",
              "      <td>None</td>\n",
              "    </tr>\n",
              "    <tr>\n",
              "      <th>...</th>\n",
              "      <td>...</td>\n",
              "      <td>...</td>\n",
              "    </tr>\n",
              "    <tr>\n",
              "      <th>3750989</th>\n",
              "      <td>40143360</td>\n",
              "      <td>javascript</td>\n",
              "    </tr>\n",
              "    <tr>\n",
              "      <th>3750990</th>\n",
              "      <td>40143360</td>\n",
              "      <td>None</td>\n",
              "    </tr>\n",
              "    <tr>\n",
              "      <th>3750991</th>\n",
              "      <td>40143380</td>\n",
              "      <td>None</td>\n",
              "    </tr>\n",
              "    <tr>\n",
              "      <th>3750992</th>\n",
              "      <td>40143380</td>\n",
              "      <td>None</td>\n",
              "    </tr>\n",
              "    <tr>\n",
              "      <th>3750993</th>\n",
              "      <td>40143380</td>\n",
              "      <td>None</td>\n",
              "    </tr>\n",
              "  </tbody>\n",
              "</table>\n",
              "<p>3750994 rows × 2 columns</p>\n",
              "</div>"
            ],
            "text/plain": [
              "               Id         Tag\n",
              "0              80        None\n",
              "1              80        None\n",
              "2              80        None\n",
              "3              90        None\n",
              "4              90        None\n",
              "...           ...         ...\n",
              "3750989  40143360  javascript\n",
              "3750990  40143360        None\n",
              "3750991  40143380        None\n",
              "3750992  40143380        None\n",
              "3750993  40143380        None\n",
              "\n",
              "[3750994 rows x 2 columns]"
            ]
          },
          "metadata": {
            "tags": []
          },
          "execution_count": 15
        }
      ]
    },
    {
      "cell_type": "code",
      "metadata": {
        "id": "KVzLaIPIxzsF"
      },
      "source": [
        "tags_data.dropna(inplace=True)\n"
      ],
      "execution_count": 16,
      "outputs": []
    },
    {
      "cell_type": "code",
      "metadata": {
        "colab": {
          "base_uri": "https://localhost:8080/",
          "height": 419
        },
        "id": "mh7NAxZZx22N",
        "outputId": "c6ef7e4b-b2fd-471c-de2b-948231c14170"
      },
      "source": [
        "tags_data\n"
      ],
      "execution_count": 17,
      "outputs": [
        {
          "output_type": "execute_result",
          "data": {
            "text/html": [
              "<div>\n",
              "<style scoped>\n",
              "    .dataframe tbody tr th:only-of-type {\n",
              "        vertical-align: middle;\n",
              "    }\n",
              "\n",
              "    .dataframe tbody tr th {\n",
              "        vertical-align: top;\n",
              "    }\n",
              "\n",
              "    .dataframe thead th {\n",
              "        text-align: right;\n",
              "    }\n",
              "</style>\n",
              "<table border=\"1\" class=\"dataframe\">\n",
              "  <thead>\n",
              "    <tr style=\"text-align: right;\">\n",
              "      <th></th>\n",
              "      <th>Id</th>\n",
              "      <th>Tag</th>\n",
              "    </tr>\n",
              "  </thead>\n",
              "  <tbody>\n",
              "    <tr>\n",
              "      <th>14</th>\n",
              "      <td>260</td>\n",
              "      <td>c#</td>\n",
              "    </tr>\n",
              "    <tr>\n",
              "      <th>18</th>\n",
              "      <td>330</td>\n",
              "      <td>c++</td>\n",
              "    </tr>\n",
              "    <tr>\n",
              "      <th>28</th>\n",
              "      <td>650</td>\n",
              "      <td>c#</td>\n",
              "    </tr>\n",
              "    <tr>\n",
              "      <th>35</th>\n",
              "      <td>930</td>\n",
              "      <td>c#</td>\n",
              "    </tr>\n",
              "    <tr>\n",
              "      <th>39</th>\n",
              "      <td>1010</td>\n",
              "      <td>c#</td>\n",
              "    </tr>\n",
              "    <tr>\n",
              "      <th>...</th>\n",
              "      <td>...</td>\n",
              "      <td>...</td>\n",
              "    </tr>\n",
              "    <tr>\n",
              "      <th>3750974</th>\n",
              "      <td>40143150</td>\n",
              "      <td>javascript</td>\n",
              "    </tr>\n",
              "    <tr>\n",
              "      <th>3750981</th>\n",
              "      <td>40143190</td>\n",
              "      <td>python</td>\n",
              "    </tr>\n",
              "    <tr>\n",
              "      <th>3750984</th>\n",
              "      <td>40143210</td>\n",
              "      <td>php</td>\n",
              "    </tr>\n",
              "    <tr>\n",
              "      <th>3750987</th>\n",
              "      <td>40143340</td>\n",
              "      <td>android</td>\n",
              "    </tr>\n",
              "    <tr>\n",
              "      <th>3750989</th>\n",
              "      <td>40143360</td>\n",
              "      <td>javascript</td>\n",
              "    </tr>\n",
              "  </tbody>\n",
              "</table>\n",
              "<p>826739 rows × 2 columns</p>\n",
              "</div>"
            ],
            "text/plain": [
              "               Id         Tag\n",
              "14            260          c#\n",
              "18            330         c++\n",
              "28            650          c#\n",
              "35            930          c#\n",
              "39           1010          c#\n",
              "...           ...         ...\n",
              "3750974  40143150  javascript\n",
              "3750981  40143190      python\n",
              "3750984  40143210         php\n",
              "3750987  40143340     android\n",
              "3750989  40143360  javascript\n",
              "\n",
              "[826739 rows x 2 columns]"
            ]
          },
          "metadata": {
            "tags": []
          },
          "execution_count": 17
        }
      ]
    },
    {
      "cell_type": "code",
      "metadata": {
        "id": "BJinsurgx515"
      },
      "source": [
        "#preparing the contents of dataframe\n",
        "#text = '<p dgqwifgwi> This is important </p>'\n",
        "import re\n",
        "\n",
        "def strip_html_tags(body) :\n",
        "  regex = re.compile('<.*?>')\n",
        "  return re.sub(regex, '', body)"
      ],
      "execution_count": 18,
      "outputs": []
    },
    {
      "cell_type": "code",
      "metadata": {
        "id": "eS7XfNCHyCGg"
      },
      "source": [
        "questions_data['Body'] = questions_data.Body.apply(strip_html_tags)\n"
      ],
      "execution_count": 19,
      "outputs": []
    },
    {
      "cell_type": "code",
      "metadata": {
        "colab": {
          "base_uri": "https://localhost:8080/"
        },
        "id": "67K6e221yFHY",
        "outputId": "6de3ac92-5522-4238-d325-8a75b6d92a56"
      },
      "source": [
        "questions_data['Body']\n"
      ],
      "execution_count": 20,
      "outputs": [
        {
          "output_type": "execute_result",
          "data": {
            "text/plain": [
              "0          I've written a database generation script in S...\n",
              "1          Are there any really good tutorials explaining...\n",
              "2          Has anyone got experience creating SQL-based A...\n",
              "3          This is something I've pseudo-solved many time...\n",
              "4          I have a little game written in C#. It uses a ...\n",
              "                                 ...                        \n",
              "1264211    I am building a custom MVC project and I have ...\n",
              "1264212    The API docs show that you should be able to m...\n",
              "1264213    Under minifyEnabled I changed from false to tr...\n",
              "1264214    I have input which I use to filter my array of...\n",
              "1264215    I'm running a mocha test and I noticed my chan...\n",
              "Name: Body, Length: 1264216, dtype: object"
            ]
          },
          "metadata": {
            "tags": []
          },
          "execution_count": 20
        }
      ]
    },
    {
      "cell_type": "code",
      "metadata": {
        "id": "JqobyJ8ryIFM"
      },
      "source": [
        "questions_data['Text'] = questions_data['Title']+' '+questions_data['Body']\n"
      ],
      "execution_count": 21,
      "outputs": []
    },
    {
      "cell_type": "code",
      "metadata": {
        "colab": {
          "base_uri": "https://localhost:8080/"
        },
        "id": "Wf__8LcvyMIz",
        "outputId": "236527a2-a32f-4705-d601-a7ae5dc2ca55"
      },
      "source": [
        "questions_data['Text']\n"
      ],
      "execution_count": 22,
      "outputs": [
        {
          "output_type": "execute_result",
          "data": {
            "text/plain": [
              "0          SQLStatement.execute() - multiple queries in o...\n",
              "1          Good branching and merging tutorials for Torto...\n",
              "2          ASP.NET Site Maps Has anyone got experience cr...\n",
              "3          Function for creating color wheels This is som...\n",
              "4          Adding scripting functionality to .NET applica...\n",
              "                                 ...                        \n",
              "1264211    URL routing in PHP (MVC) I am building a custo...\n",
              "1264212    Bigquery.Jobs.Insert - Resumable Upload? The A...\n",
              "1264213    Obfuscating code in android studio Under minif...\n",
              "1264214    How to fire function after v-model change? I h...\n",
              "1264215    npm run mocha test - files being cached I'm ru...\n",
              "Name: Text, Length: 1264216, dtype: object"
            ]
          },
          "metadata": {
            "tags": []
          },
          "execution_count": 22
        }
      ]
    },
    {
      "cell_type": "code",
      "metadata": {
        "colab": {
          "base_uri": "https://localhost:8080/"
        },
        "id": "u9ALQOsIyPql",
        "outputId": "0c43c7aa-ea6b-454f-c818-92f003b3154e"
      },
      "source": [
        "questions_data.shape\n"
      ],
      "execution_count": 23,
      "outputs": [
        {
          "output_type": "execute_result",
          "data": {
            "text/plain": [
              "(1264216, 8)"
            ]
          },
          "metadata": {
            "tags": []
          },
          "execution_count": 23
        }
      ]
    },
    {
      "cell_type": "code",
      "metadata": {
        "colab": {
          "base_uri": "https://localhost:8080/"
        },
        "id": "KBP9DC0eySt4",
        "outputId": "1476d7db-d46f-48ca-b40e-c09505139327"
      },
      "source": [
        "tags_data.shape\n"
      ],
      "execution_count": 24,
      "outputs": [
        {
          "output_type": "execute_result",
          "data": {
            "text/plain": [
              "(826739, 2)"
            ]
          },
          "metadata": {
            "tags": []
          },
          "execution_count": 24
        }
      ]
    },
    {
      "cell_type": "code",
      "metadata": {
        "colab": {
          "base_uri": "https://localhost:8080/",
          "height": 111
        },
        "id": "7r_5wd_syV8P",
        "outputId": "83b7244a-477f-4dbb-9518-358eea14e864"
      },
      "source": [
        "tags_data.head(2)\n"
      ],
      "execution_count": 25,
      "outputs": [
        {
          "output_type": "execute_result",
          "data": {
            "text/html": [
              "<div>\n",
              "<style scoped>\n",
              "    .dataframe tbody tr th:only-of-type {\n",
              "        vertical-align: middle;\n",
              "    }\n",
              "\n",
              "    .dataframe tbody tr th {\n",
              "        vertical-align: top;\n",
              "    }\n",
              "\n",
              "    .dataframe thead th {\n",
              "        text-align: right;\n",
              "    }\n",
              "</style>\n",
              "<table border=\"1\" class=\"dataframe\">\n",
              "  <thead>\n",
              "    <tr style=\"text-align: right;\">\n",
              "      <th></th>\n",
              "      <th>Id</th>\n",
              "      <th>Tag</th>\n",
              "    </tr>\n",
              "  </thead>\n",
              "  <tbody>\n",
              "    <tr>\n",
              "      <th>14</th>\n",
              "      <td>260</td>\n",
              "      <td>c#</td>\n",
              "    </tr>\n",
              "    <tr>\n",
              "      <th>18</th>\n",
              "      <td>330</td>\n",
              "      <td>c++</td>\n",
              "    </tr>\n",
              "  </tbody>\n",
              "</table>\n",
              "</div>"
            ],
            "text/plain": [
              "     Id  Tag\n",
              "14  260   c#\n",
              "18  330  c++"
            ]
          },
          "metadata": {
            "tags": []
          },
          "execution_count": 25
        }
      ]
    },
    {
      "cell_type": "code",
      "metadata": {
        "colab": {
          "base_uri": "https://localhost:8080/",
          "height": 589
        },
        "id": "IlXpxC44yzoY",
        "outputId": "bb59541b-71a5-446f-9e6c-3fa843fb01dc"
      },
      "source": [
        "questions_data.sort_values('Id')\n"
      ],
      "execution_count": 26,
      "outputs": [
        {
          "output_type": "execute_result",
          "data": {
            "text/html": [
              "<div>\n",
              "<style scoped>\n",
              "    .dataframe tbody tr th:only-of-type {\n",
              "        vertical-align: middle;\n",
              "    }\n",
              "\n",
              "    .dataframe tbody tr th {\n",
              "        vertical-align: top;\n",
              "    }\n",
              "\n",
              "    .dataframe thead th {\n",
              "        text-align: right;\n",
              "    }\n",
              "</style>\n",
              "<table border=\"1\" class=\"dataframe\">\n",
              "  <thead>\n",
              "    <tr style=\"text-align: right;\">\n",
              "      <th></th>\n",
              "      <th>Id</th>\n",
              "      <th>OwnerUserId</th>\n",
              "      <th>CreationDate</th>\n",
              "      <th>ClosedDate</th>\n",
              "      <th>Score</th>\n",
              "      <th>Title</th>\n",
              "      <th>Body</th>\n",
              "      <th>Text</th>\n",
              "    </tr>\n",
              "  </thead>\n",
              "  <tbody>\n",
              "    <tr>\n",
              "      <th>0</th>\n",
              "      <td>80</td>\n",
              "      <td>26.0</td>\n",
              "      <td>2008-08-01T13:57:07Z</td>\n",
              "      <td>NaN</td>\n",
              "      <td>26</td>\n",
              "      <td>SQLStatement.execute() - multiple queries in o...</td>\n",
              "      <td>I've written a database generation script in S...</td>\n",
              "      <td>SQLStatement.execute() - multiple queries in o...</td>\n",
              "    </tr>\n",
              "    <tr>\n",
              "      <th>1</th>\n",
              "      <td>90</td>\n",
              "      <td>58.0</td>\n",
              "      <td>2008-08-01T14:41:24Z</td>\n",
              "      <td>2012-12-26T03:45:49Z</td>\n",
              "      <td>144</td>\n",
              "      <td>Good branching and merging tutorials for Torto...</td>\n",
              "      <td>Are there any really good tutorials explaining...</td>\n",
              "      <td>Good branching and merging tutorials for Torto...</td>\n",
              "    </tr>\n",
              "    <tr>\n",
              "      <th>2</th>\n",
              "      <td>120</td>\n",
              "      <td>83.0</td>\n",
              "      <td>2008-08-01T15:50:08Z</td>\n",
              "      <td>NaN</td>\n",
              "      <td>21</td>\n",
              "      <td>ASP.NET Site Maps</td>\n",
              "      <td>Has anyone got experience creating SQL-based A...</td>\n",
              "      <td>ASP.NET Site Maps Has anyone got experience cr...</td>\n",
              "    </tr>\n",
              "    <tr>\n",
              "      <th>3</th>\n",
              "      <td>180</td>\n",
              "      <td>2089740.0</td>\n",
              "      <td>2008-08-01T18:42:19Z</td>\n",
              "      <td>NaN</td>\n",
              "      <td>53</td>\n",
              "      <td>Function for creating color wheels</td>\n",
              "      <td>This is something I've pseudo-solved many time...</td>\n",
              "      <td>Function for creating color wheels This is som...</td>\n",
              "    </tr>\n",
              "    <tr>\n",
              "      <th>4</th>\n",
              "      <td>260</td>\n",
              "      <td>91.0</td>\n",
              "      <td>2008-08-01T23:22:08Z</td>\n",
              "      <td>NaN</td>\n",
              "      <td>49</td>\n",
              "      <td>Adding scripting functionality to .NET applica...</td>\n",
              "      <td>I have a little game written in C#. It uses a ...</td>\n",
              "      <td>Adding scripting functionality to .NET applica...</td>\n",
              "    </tr>\n",
              "    <tr>\n",
              "      <th>...</th>\n",
              "      <td>...</td>\n",
              "      <td>...</td>\n",
              "      <td>...</td>\n",
              "      <td>...</td>\n",
              "      <td>...</td>\n",
              "      <td>...</td>\n",
              "      <td>...</td>\n",
              "      <td>...</td>\n",
              "    </tr>\n",
              "    <tr>\n",
              "      <th>1264211</th>\n",
              "      <td>40143210</td>\n",
              "      <td>5610777.0</td>\n",
              "      <td>2016-10-19T23:38:01Z</td>\n",
              "      <td>NaN</td>\n",
              "      <td>0</td>\n",
              "      <td>URL routing in PHP (MVC)</td>\n",
              "      <td>I am building a custom MVC project and I have ...</td>\n",
              "      <td>URL routing in PHP (MVC) I am building a custo...</td>\n",
              "    </tr>\n",
              "    <tr>\n",
              "      <th>1264212</th>\n",
              "      <td>40143300</td>\n",
              "      <td>3791161.0</td>\n",
              "      <td>2016-10-19T23:48:09Z</td>\n",
              "      <td>NaN</td>\n",
              "      <td>0</td>\n",
              "      <td>Bigquery.Jobs.Insert - Resumable Upload?</td>\n",
              "      <td>The API docs show that you should be able to m...</td>\n",
              "      <td>Bigquery.Jobs.Insert - Resumable Upload? The A...</td>\n",
              "    </tr>\n",
              "    <tr>\n",
              "      <th>1264213</th>\n",
              "      <td>40143340</td>\n",
              "      <td>7028647.0</td>\n",
              "      <td>2016-10-19T23:52:50Z</td>\n",
              "      <td>NaN</td>\n",
              "      <td>1</td>\n",
              "      <td>Obfuscating code in android studio</td>\n",
              "      <td>Under minifyEnabled I changed from false to tr...</td>\n",
              "      <td>Obfuscating code in android studio Under minif...</td>\n",
              "    </tr>\n",
              "    <tr>\n",
              "      <th>1264214</th>\n",
              "      <td>40143360</td>\n",
              "      <td>871677.0</td>\n",
              "      <td>2016-10-19T23:55:24Z</td>\n",
              "      <td>NaN</td>\n",
              "      <td>0</td>\n",
              "      <td>How to fire function after v-model change?</td>\n",
              "      <td>I have input which I use to filter my array of...</td>\n",
              "      <td>How to fire function after v-model change? I h...</td>\n",
              "    </tr>\n",
              "    <tr>\n",
              "      <th>1264215</th>\n",
              "      <td>40143380</td>\n",
              "      <td>6823982.0</td>\n",
              "      <td>2016-10-19T23:57:31Z</td>\n",
              "      <td>NaN</td>\n",
              "      <td>0</td>\n",
              "      <td>npm run mocha test - files being cached</td>\n",
              "      <td>I'm running a mocha test and I noticed my chan...</td>\n",
              "      <td>npm run mocha test - files being cached I'm ru...</td>\n",
              "    </tr>\n",
              "  </tbody>\n",
              "</table>\n",
              "<p>1264216 rows × 8 columns</p>\n",
              "</div>"
            ],
            "text/plain": [
              "               Id  ...                                               Text\n",
              "0              80  ...  SQLStatement.execute() - multiple queries in o...\n",
              "1              90  ...  Good branching and merging tutorials for Torto...\n",
              "2             120  ...  ASP.NET Site Maps Has anyone got experience cr...\n",
              "3             180  ...  Function for creating color wheels This is som...\n",
              "4             260  ...  Adding scripting functionality to .NET applica...\n",
              "...           ...  ...                                                ...\n",
              "1264211  40143210  ...  URL routing in PHP (MVC) I am building a custo...\n",
              "1264212  40143300  ...  Bigquery.Jobs.Insert - Resumable Upload? The A...\n",
              "1264213  40143340  ...  Obfuscating code in android studio Under minif...\n",
              "1264214  40143360  ...  How to fire function after v-model change? I h...\n",
              "1264215  40143380  ...  npm run mocha test - files being cached I'm ru...\n",
              "\n",
              "[1264216 rows x 8 columns]"
            ]
          },
          "metadata": {
            "tags": []
          },
          "execution_count": 26
        }
      ]
    },
    {
      "cell_type": "code",
      "metadata": {
        "colab": {
          "base_uri": "https://localhost:8080/",
          "height": 419
        },
        "id": "2SsKQkTvy3jj",
        "outputId": "3176537e-1ef8-4359-faf9-9a4401e022ec"
      },
      "source": [
        "tags_data.sort_values('Id')\n"
      ],
      "execution_count": 27,
      "outputs": [
        {
          "output_type": "execute_result",
          "data": {
            "text/html": [
              "<div>\n",
              "<style scoped>\n",
              "    .dataframe tbody tr th:only-of-type {\n",
              "        vertical-align: middle;\n",
              "    }\n",
              "\n",
              "    .dataframe tbody tr th {\n",
              "        vertical-align: top;\n",
              "    }\n",
              "\n",
              "    .dataframe thead th {\n",
              "        text-align: right;\n",
              "    }\n",
              "</style>\n",
              "<table border=\"1\" class=\"dataframe\">\n",
              "  <thead>\n",
              "    <tr style=\"text-align: right;\">\n",
              "      <th></th>\n",
              "      <th>Id</th>\n",
              "      <th>Tag</th>\n",
              "    </tr>\n",
              "  </thead>\n",
              "  <tbody>\n",
              "    <tr>\n",
              "      <th>14</th>\n",
              "      <td>260</td>\n",
              "      <td>c#</td>\n",
              "    </tr>\n",
              "    <tr>\n",
              "      <th>18</th>\n",
              "      <td>330</td>\n",
              "      <td>c++</td>\n",
              "    </tr>\n",
              "    <tr>\n",
              "      <th>28</th>\n",
              "      <td>650</td>\n",
              "      <td>c#</td>\n",
              "    </tr>\n",
              "    <tr>\n",
              "      <th>35</th>\n",
              "      <td>930</td>\n",
              "      <td>c#</td>\n",
              "    </tr>\n",
              "    <tr>\n",
              "      <th>39</th>\n",
              "      <td>1010</td>\n",
              "      <td>c#</td>\n",
              "    </tr>\n",
              "    <tr>\n",
              "      <th>...</th>\n",
              "      <td>...</td>\n",
              "      <td>...</td>\n",
              "    </tr>\n",
              "    <tr>\n",
              "      <th>3750974</th>\n",
              "      <td>40143150</td>\n",
              "      <td>javascript</td>\n",
              "    </tr>\n",
              "    <tr>\n",
              "      <th>3750981</th>\n",
              "      <td>40143190</td>\n",
              "      <td>python</td>\n",
              "    </tr>\n",
              "    <tr>\n",
              "      <th>3750984</th>\n",
              "      <td>40143210</td>\n",
              "      <td>php</td>\n",
              "    </tr>\n",
              "    <tr>\n",
              "      <th>3750987</th>\n",
              "      <td>40143340</td>\n",
              "      <td>android</td>\n",
              "    </tr>\n",
              "    <tr>\n",
              "      <th>3750989</th>\n",
              "      <td>40143360</td>\n",
              "      <td>javascript</td>\n",
              "    </tr>\n",
              "  </tbody>\n",
              "</table>\n",
              "<p>826739 rows × 2 columns</p>\n",
              "</div>"
            ],
            "text/plain": [
              "               Id         Tag\n",
              "14            260          c#\n",
              "18            330         c++\n",
              "28            650          c#\n",
              "35            930          c#\n",
              "39           1010          c#\n",
              "...           ...         ...\n",
              "3750974  40143150  javascript\n",
              "3750981  40143190      python\n",
              "3750984  40143210         php\n",
              "3750987  40143340     android\n",
              "3750989  40143360  javascript\n",
              "\n",
              "[826739 rows x 2 columns]"
            ]
          },
          "metadata": {
            "tags": []
          },
          "execution_count": 27
        }
      ]
    },
    {
      "cell_type": "code",
      "metadata": {
        "colab": {
          "base_uri": "https://localhost:8080/"
        },
        "id": "WD8n8OYqy7X5",
        "outputId": "732db80a-9ea6-42f6-fbf7-78dd06d17f37"
      },
      "source": [
        "tags_data.nunique()\n"
      ],
      "execution_count": 28,
      "outputs": [
        {
          "output_type": "execute_result",
          "data": {
            "text/plain": [
              "Id     706336\n",
              "Tag        10\n",
              "dtype: int64"
            ]
          },
          "metadata": {
            "tags": []
          },
          "execution_count": 28
        }
      ]
    },
    {
      "cell_type": "code",
      "metadata": {
        "id": "kC5XkSl1y_lS"
      },
      "source": [
        "tag_Ids = list(tags_data['Id'])\n"
      ],
      "execution_count": 29,
      "outputs": []
    },
    {
      "cell_type": "code",
      "metadata": {
        "colab": {
          "base_uri": "https://localhost:8080/",
          "height": 589
        },
        "id": "gwYI1zv5zDCy",
        "outputId": "392aaf98-ab09-4ff9-92b1-1d8fd46f6a45"
      },
      "source": [
        "\n",
        "questiond_data_top_10 = questions_data[questions_data['Id'].isin(tag_Ids)]\n",
        "questiond_data_top_10"
      ],
      "execution_count": 30,
      "outputs": [
        {
          "output_type": "execute_result",
          "data": {
            "text/html": [
              "<div>\n",
              "<style scoped>\n",
              "    .dataframe tbody tr th:only-of-type {\n",
              "        vertical-align: middle;\n",
              "    }\n",
              "\n",
              "    .dataframe tbody tr th {\n",
              "        vertical-align: top;\n",
              "    }\n",
              "\n",
              "    .dataframe thead th {\n",
              "        text-align: right;\n",
              "    }\n",
              "</style>\n",
              "<table border=\"1\" class=\"dataframe\">\n",
              "  <thead>\n",
              "    <tr style=\"text-align: right;\">\n",
              "      <th></th>\n",
              "      <th>Id</th>\n",
              "      <th>OwnerUserId</th>\n",
              "      <th>CreationDate</th>\n",
              "      <th>ClosedDate</th>\n",
              "      <th>Score</th>\n",
              "      <th>Title</th>\n",
              "      <th>Body</th>\n",
              "      <th>Text</th>\n",
              "    </tr>\n",
              "  </thead>\n",
              "  <tbody>\n",
              "    <tr>\n",
              "      <th>4</th>\n",
              "      <td>260</td>\n",
              "      <td>91.0</td>\n",
              "      <td>2008-08-01T23:22:08Z</td>\n",
              "      <td>NaN</td>\n",
              "      <td>49</td>\n",
              "      <td>Adding scripting functionality to .NET applica...</td>\n",
              "      <td>I have a little game written in C#. It uses a ...</td>\n",
              "      <td>Adding scripting functionality to .NET applica...</td>\n",
              "    </tr>\n",
              "    <tr>\n",
              "      <th>5</th>\n",
              "      <td>330</td>\n",
              "      <td>63.0</td>\n",
              "      <td>2008-08-02T02:51:36Z</td>\n",
              "      <td>NaN</td>\n",
              "      <td>29</td>\n",
              "      <td>Should I use nested classes in this case?</td>\n",
              "      <td>I am working on a collection of classes used f...</td>\n",
              "      <td>Should I use nested classes in this case? I am...</td>\n",
              "    </tr>\n",
              "    <tr>\n",
              "      <th>8</th>\n",
              "      <td>650</td>\n",
              "      <td>143.0</td>\n",
              "      <td>2008-08-03T11:12:52Z</td>\n",
              "      <td>NaN</td>\n",
              "      <td>79</td>\n",
              "      <td>Automatically update version number</td>\n",
              "      <td>I would like the version property of my applic...</td>\n",
              "      <td>Automatically update version number I would li...</td>\n",
              "    </tr>\n",
              "    <tr>\n",
              "      <th>10</th>\n",
              "      <td>930</td>\n",
              "      <td>245.0</td>\n",
              "      <td>2008-08-04T00:47:25Z</td>\n",
              "      <td>NaN</td>\n",
              "      <td>28</td>\n",
              "      <td>How do I connect to a database and loop over a...</td>\n",
              "      <td>What's the simplest way to connect and query a...</td>\n",
              "      <td>How do I connect to a database and loop over a...</td>\n",
              "    </tr>\n",
              "    <tr>\n",
              "      <th>11</th>\n",
              "      <td>1010</td>\n",
              "      <td>67.0</td>\n",
              "      <td>2008-08-04T03:59:42Z</td>\n",
              "      <td>NaN</td>\n",
              "      <td>14</td>\n",
              "      <td>How to get the value of built, encoded ViewState?</td>\n",
              "      <td>I need to grab the base64-encoded representati...</td>\n",
              "      <td>How to get the value of built, encoded ViewSta...</td>\n",
              "    </tr>\n",
              "    <tr>\n",
              "      <th>...</th>\n",
              "      <td>...</td>\n",
              "      <td>...</td>\n",
              "      <td>...</td>\n",
              "      <td>...</td>\n",
              "      <td>...</td>\n",
              "      <td>...</td>\n",
              "      <td>...</td>\n",
              "      <td>...</td>\n",
              "    </tr>\n",
              "    <tr>\n",
              "      <th>1264208</th>\n",
              "      <td>40143150</td>\n",
              "      <td>5496690.0</td>\n",
              "      <td>2016-10-19T23:31:41Z</td>\n",
              "      <td>NaN</td>\n",
              "      <td>0</td>\n",
              "      <td>YouTube iFrame API: no ready call, no error call</td>\n",
              "      <td>I'm trying to detect the \"flash out of date\" e...</td>\n",
              "      <td>YouTube iFrame API: no ready call, no error ca...</td>\n",
              "    </tr>\n",
              "    <tr>\n",
              "      <th>1264210</th>\n",
              "      <td>40143190</td>\n",
              "      <td>333403.0</td>\n",
              "      <td>2016-10-19T23:36:01Z</td>\n",
              "      <td>NaN</td>\n",
              "      <td>1</td>\n",
              "      <td>How to execute multiline python code from a ba...</td>\n",
              "      <td>I need to extend a shell script (bash). As I a...</td>\n",
              "      <td>How to execute multiline python code from a ba...</td>\n",
              "    </tr>\n",
              "    <tr>\n",
              "      <th>1264211</th>\n",
              "      <td>40143210</td>\n",
              "      <td>5610777.0</td>\n",
              "      <td>2016-10-19T23:38:01Z</td>\n",
              "      <td>NaN</td>\n",
              "      <td>0</td>\n",
              "      <td>URL routing in PHP (MVC)</td>\n",
              "      <td>I am building a custom MVC project and I have ...</td>\n",
              "      <td>URL routing in PHP (MVC) I am building a custo...</td>\n",
              "    </tr>\n",
              "    <tr>\n",
              "      <th>1264213</th>\n",
              "      <td>40143340</td>\n",
              "      <td>7028647.0</td>\n",
              "      <td>2016-10-19T23:52:50Z</td>\n",
              "      <td>NaN</td>\n",
              "      <td>1</td>\n",
              "      <td>Obfuscating code in android studio</td>\n",
              "      <td>Under minifyEnabled I changed from false to tr...</td>\n",
              "      <td>Obfuscating code in android studio Under minif...</td>\n",
              "    </tr>\n",
              "    <tr>\n",
              "      <th>1264214</th>\n",
              "      <td>40143360</td>\n",
              "      <td>871677.0</td>\n",
              "      <td>2016-10-19T23:55:24Z</td>\n",
              "      <td>NaN</td>\n",
              "      <td>0</td>\n",
              "      <td>How to fire function after v-model change?</td>\n",
              "      <td>I have input which I use to filter my array of...</td>\n",
              "      <td>How to fire function after v-model change? I h...</td>\n",
              "    </tr>\n",
              "  </tbody>\n",
              "</table>\n",
              "<p>706336 rows × 8 columns</p>\n",
              "</div>"
            ],
            "text/plain": [
              "               Id  ...                                               Text\n",
              "4             260  ...  Adding scripting functionality to .NET applica...\n",
              "5             330  ...  Should I use nested classes in this case? I am...\n",
              "8             650  ...  Automatically update version number I would li...\n",
              "10            930  ...  How do I connect to a database and loop over a...\n",
              "11           1010  ...  How to get the value of built, encoded ViewSta...\n",
              "...           ...  ...                                                ...\n",
              "1264208  40143150  ...  YouTube iFrame API: no ready call, no error ca...\n",
              "1264210  40143190  ...  How to execute multiline python code from a ba...\n",
              "1264211  40143210  ...  URL routing in PHP (MVC) I am building a custo...\n",
              "1264213  40143340  ...  Obfuscating code in android studio Under minif...\n",
              "1264214  40143360  ...  How to fire function after v-model change? I h...\n",
              "\n",
              "[706336 rows x 8 columns]"
            ]
          },
          "metadata": {
            "tags": []
          },
          "execution_count": 30
        }
      ]
    },
    {
      "cell_type": "code",
      "metadata": {
        "colab": {
          "base_uri": "https://localhost:8080/",
          "height": 589
        },
        "id": "K9ER6wunzHnR",
        "outputId": "07932a04-d583-4172-81c1-4dc20b2fa29c"
      },
      "source": [
        "questions_data_top_10 = questiond_data_top_10.merge(tags_data)\n",
        "questions_data_top_10\n"
      ],
      "execution_count": 31,
      "outputs": [
        {
          "output_type": "execute_result",
          "data": {
            "text/html": [
              "<div>\n",
              "<style scoped>\n",
              "    .dataframe tbody tr th:only-of-type {\n",
              "        vertical-align: middle;\n",
              "    }\n",
              "\n",
              "    .dataframe tbody tr th {\n",
              "        vertical-align: top;\n",
              "    }\n",
              "\n",
              "    .dataframe thead th {\n",
              "        text-align: right;\n",
              "    }\n",
              "</style>\n",
              "<table border=\"1\" class=\"dataframe\">\n",
              "  <thead>\n",
              "    <tr style=\"text-align: right;\">\n",
              "      <th></th>\n",
              "      <th>Id</th>\n",
              "      <th>OwnerUserId</th>\n",
              "      <th>CreationDate</th>\n",
              "      <th>ClosedDate</th>\n",
              "      <th>Score</th>\n",
              "      <th>Title</th>\n",
              "      <th>Body</th>\n",
              "      <th>Text</th>\n",
              "      <th>Tag</th>\n",
              "    </tr>\n",
              "  </thead>\n",
              "  <tbody>\n",
              "    <tr>\n",
              "      <th>0</th>\n",
              "      <td>260</td>\n",
              "      <td>91.0</td>\n",
              "      <td>2008-08-01T23:22:08Z</td>\n",
              "      <td>NaN</td>\n",
              "      <td>49</td>\n",
              "      <td>Adding scripting functionality to .NET applica...</td>\n",
              "      <td>I have a little game written in C#. It uses a ...</td>\n",
              "      <td>Adding scripting functionality to .NET applica...</td>\n",
              "      <td>c#</td>\n",
              "    </tr>\n",
              "    <tr>\n",
              "      <th>1</th>\n",
              "      <td>330</td>\n",
              "      <td>63.0</td>\n",
              "      <td>2008-08-02T02:51:36Z</td>\n",
              "      <td>NaN</td>\n",
              "      <td>29</td>\n",
              "      <td>Should I use nested classes in this case?</td>\n",
              "      <td>I am working on a collection of classes used f...</td>\n",
              "      <td>Should I use nested classes in this case? I am...</td>\n",
              "      <td>c++</td>\n",
              "    </tr>\n",
              "    <tr>\n",
              "      <th>2</th>\n",
              "      <td>650</td>\n",
              "      <td>143.0</td>\n",
              "      <td>2008-08-03T11:12:52Z</td>\n",
              "      <td>NaN</td>\n",
              "      <td>79</td>\n",
              "      <td>Automatically update version number</td>\n",
              "      <td>I would like the version property of my applic...</td>\n",
              "      <td>Automatically update version number I would li...</td>\n",
              "      <td>c#</td>\n",
              "    </tr>\n",
              "    <tr>\n",
              "      <th>3</th>\n",
              "      <td>930</td>\n",
              "      <td>245.0</td>\n",
              "      <td>2008-08-04T00:47:25Z</td>\n",
              "      <td>NaN</td>\n",
              "      <td>28</td>\n",
              "      <td>How do I connect to a database and loop over a...</td>\n",
              "      <td>What's the simplest way to connect and query a...</td>\n",
              "      <td>How do I connect to a database and loop over a...</td>\n",
              "      <td>c#</td>\n",
              "    </tr>\n",
              "    <tr>\n",
              "      <th>4</th>\n",
              "      <td>1010</td>\n",
              "      <td>67.0</td>\n",
              "      <td>2008-08-04T03:59:42Z</td>\n",
              "      <td>NaN</td>\n",
              "      <td>14</td>\n",
              "      <td>How to get the value of built, encoded ViewState?</td>\n",
              "      <td>I need to grab the base64-encoded representati...</td>\n",
              "      <td>How to get the value of built, encoded ViewSta...</td>\n",
              "      <td>c#</td>\n",
              "    </tr>\n",
              "    <tr>\n",
              "      <th>...</th>\n",
              "      <td>...</td>\n",
              "      <td>...</td>\n",
              "      <td>...</td>\n",
              "      <td>...</td>\n",
              "      <td>...</td>\n",
              "      <td>...</td>\n",
              "      <td>...</td>\n",
              "      <td>...</td>\n",
              "      <td>...</td>\n",
              "    </tr>\n",
              "    <tr>\n",
              "      <th>826734</th>\n",
              "      <td>40143150</td>\n",
              "      <td>5496690.0</td>\n",
              "      <td>2016-10-19T23:31:41Z</td>\n",
              "      <td>NaN</td>\n",
              "      <td>0</td>\n",
              "      <td>YouTube iFrame API: no ready call, no error call</td>\n",
              "      <td>I'm trying to detect the \"flash out of date\" e...</td>\n",
              "      <td>YouTube iFrame API: no ready call, no error ca...</td>\n",
              "      <td>javascript</td>\n",
              "    </tr>\n",
              "    <tr>\n",
              "      <th>826735</th>\n",
              "      <td>40143190</td>\n",
              "      <td>333403.0</td>\n",
              "      <td>2016-10-19T23:36:01Z</td>\n",
              "      <td>NaN</td>\n",
              "      <td>1</td>\n",
              "      <td>How to execute multiline python code from a ba...</td>\n",
              "      <td>I need to extend a shell script (bash). As I a...</td>\n",
              "      <td>How to execute multiline python code from a ba...</td>\n",
              "      <td>python</td>\n",
              "    </tr>\n",
              "    <tr>\n",
              "      <th>826736</th>\n",
              "      <td>40143210</td>\n",
              "      <td>5610777.0</td>\n",
              "      <td>2016-10-19T23:38:01Z</td>\n",
              "      <td>NaN</td>\n",
              "      <td>0</td>\n",
              "      <td>URL routing in PHP (MVC)</td>\n",
              "      <td>I am building a custom MVC project and I have ...</td>\n",
              "      <td>URL routing in PHP (MVC) I am building a custo...</td>\n",
              "      <td>php</td>\n",
              "    </tr>\n",
              "    <tr>\n",
              "      <th>826737</th>\n",
              "      <td>40143340</td>\n",
              "      <td>7028647.0</td>\n",
              "      <td>2016-10-19T23:52:50Z</td>\n",
              "      <td>NaN</td>\n",
              "      <td>1</td>\n",
              "      <td>Obfuscating code in android studio</td>\n",
              "      <td>Under minifyEnabled I changed from false to tr...</td>\n",
              "      <td>Obfuscating code in android studio Under minif...</td>\n",
              "      <td>android</td>\n",
              "    </tr>\n",
              "    <tr>\n",
              "      <th>826738</th>\n",
              "      <td>40143360</td>\n",
              "      <td>871677.0</td>\n",
              "      <td>2016-10-19T23:55:24Z</td>\n",
              "      <td>NaN</td>\n",
              "      <td>0</td>\n",
              "      <td>How to fire function after v-model change?</td>\n",
              "      <td>I have input which I use to filter my array of...</td>\n",
              "      <td>How to fire function after v-model change? I h...</td>\n",
              "      <td>javascript</td>\n",
              "    </tr>\n",
              "  </tbody>\n",
              "</table>\n",
              "<p>826739 rows × 9 columns</p>\n",
              "</div>"
            ],
            "text/plain": [
              "              Id  ...         Tag\n",
              "0            260  ...          c#\n",
              "1            330  ...         c++\n",
              "2            650  ...          c#\n",
              "3            930  ...          c#\n",
              "4           1010  ...          c#\n",
              "...          ...  ...         ...\n",
              "826734  40143150  ...  javascript\n",
              "826735  40143190  ...      python\n",
              "826736  40143210  ...         php\n",
              "826737  40143340  ...     android\n",
              "826738  40143360  ...  javascript\n",
              "\n",
              "[826739 rows x 9 columns]"
            ]
          },
          "metadata": {
            "tags": []
          },
          "execution_count": 31
        }
      ]
    },
    {
      "cell_type": "code",
      "metadata": {
        "id": "IwFyNaYYzgQE"
      },
      "source": [
        "questions_data_top_10.drop(['OwnerUserId','CreationDate','ClosedDate','Score','Title','Body'],axis=1,inplace=True)\n"
      ],
      "execution_count": 32,
      "outputs": []
    },
    {
      "cell_type": "code",
      "metadata": {
        "id": "sv1D32J1zkAh"
      },
      "source": [
        "tag_data = pd.DataFrame(questions_data_top_10['Tag'])#\n"
      ],
      "execution_count": 33,
      "outputs": []
    },
    {
      "cell_type": "code",
      "metadata": {
        "id": "HUNTq1JHzn-1"
      },
      "source": [
        "tag_data.to_csv('tag_data.csv')\n"
      ],
      "execution_count": 34,
      "outputs": []
    },
    {
      "cell_type": "code",
      "metadata": {
        "id": "mg6r3o4uzruG"
      },
      "source": [
        "\n",
        "from keras.preprocessing.text import Tokenizer\n",
        "from keras.preprocessing.sequence import pad_sequences\n",
        "from sklearn.preprocessing import MultiLabelBinarizer"
      ],
      "execution_count": 35,
      "outputs": []
    },
    {
      "cell_type": "code",
      "metadata": {
        "colab": {
          "base_uri": "https://localhost:8080/"
        },
        "id": "sOJMC1kU0Fzo",
        "outputId": "1b7d76eb-4913-4a3c-c1c7-722eef9a9bd3"
      },
      "source": [
        "multiLableBinarizer = MultiLabelBinarizer()\n",
        "multiLableBinarizer.fit([questions_data_top_10.Tag])\n"
      ],
      "execution_count": 36,
      "outputs": [
        {
          "output_type": "execute_result",
          "data": {
            "text/plain": [
              "MultiLabelBinarizer(classes=None, sparse_output=False)"
            ]
          },
          "metadata": {
            "tags": []
          },
          "execution_count": 36
        }
      ]
    },
    {
      "cell_type": "code",
      "metadata": {
        "colab": {
          "base_uri": "https://localhost:8080/"
        },
        "id": "I30ukPXY0JX_",
        "outputId": "9a658db2-bedf-4967-83ca-d41387799039"
      },
      "source": [
        "\n",
        "Labels = multiLableBinarizer.classes_\n",
        "Labels"
      ],
      "execution_count": 37,
      "outputs": [
        {
          "output_type": "execute_result",
          "data": {
            "text/plain": [
              "array(['android', 'c#', 'c++', 'html', 'ios', 'java', 'javascript',\n",
              "       'jquery', 'php', 'python'], dtype=object)"
            ]
          },
          "metadata": {
            "tags": []
          },
          "execution_count": 37
        }
      ]
    },
    {
      "cell_type": "code",
      "metadata": {
        "id": "BwbgGfMR0NO0"
      },
      "source": [
        "sam = multiLableBinarizer.transform(questions_data_top_10.Tag)\n"
      ],
      "execution_count": 38,
      "outputs": []
    },
    {
      "cell_type": "code",
      "metadata": {
        "colab": {
          "base_uri": "https://localhost:8080/"
        },
        "id": "-A2F0Kso0Q1C",
        "outputId": "3da2c7a5-fb63-4d57-dd35-f6a9f91b4e0e"
      },
      "source": [
        "sam\n"
      ],
      "execution_count": 39,
      "outputs": [
        {
          "output_type": "execute_result",
          "data": {
            "text/plain": [
              "array([[0, 0, 0, ..., 0, 0, 0],\n",
              "       [0, 0, 0, ..., 0, 0, 0],\n",
              "       [0, 0, 0, ..., 0, 0, 0],\n",
              "       ...,\n",
              "       [0, 0, 0, ..., 0, 0, 0],\n",
              "       [0, 0, 0, ..., 0, 0, 0],\n",
              "       [0, 0, 0, ..., 0, 0, 0]])"
            ]
          },
          "metadata": {
            "tags": []
          },
          "execution_count": 39
        }
      ]
    },
    {
      "cell_type": "code",
      "metadata": {
        "id": "8crjbUp70UAv"
      },
      "source": [
        "y = pd.get_dummies(questions_data_top_10.Tag).to_numpy()\n"
      ],
      "execution_count": 40,
      "outputs": []
    },
    {
      "cell_type": "code",
      "metadata": {
        "id": "349c_U8v0ZpN"
      },
      "source": [
        "maxlen = 180\n",
        "max_words = 5000\n",
        "tokenizer = Tokenizer(num_words=max_words, lower=True)\n",
        "tokenizer.fit_on_texts(questions_data_top_10.Text)"
      ],
      "execution_count": 41,
      "outputs": []
    },
    {
      "cell_type": "code",
      "metadata": {
        "id": "CoDoN3am0l_g"
      },
      "source": [
        "def get_features(text_series):\n",
        "    \"\"\"\n",
        "    transforms text data to feature_vectors that can be used in the ml model.\n",
        "    tokenizer must be available.\n",
        "    \"\"\"\n",
        "    sequences = tokenizer.texts_to_sequences(text_series)\n",
        "    return pad_sequences(sequences, maxlen=maxlen)\n",
        "\n",
        "def prediction_to_label(prediction):\n",
        "    tag_prob = [(labels[i], prob) for i, prob in enumerate(prediction.tolist())]\n",
        "    return dict(sorted(tag_prob, key=lambda kv: kv[1], reverse=True))"
      ],
      "execution_count": 42,
      "outputs": []
    },
    {
      "cell_type": "code",
      "metadata": {
        "id": "wz8KWuHU0s-z"
      },
      "source": [
        "from sklearn.model_selection import train_test_split\n",
        "#from sklearn.preprocessing import OneHotEncoder\n",
        "#enc = OneHotEncoder(handle_unknown='ignore')\n",
        "\n",
        "x = get_features(questions_data_top_10.Text)"
      ],
      "execution_count": 43,
      "outputs": []
    },
    {
      "cell_type": "code",
      "metadata": {
        "colab": {
          "base_uri": "https://localhost:8080/"
        },
        "id": "_ysoG7NR0wfs",
        "outputId": "760422fa-54aa-4578-d05c-55ef3d04a848"
      },
      "source": [
        "x.shape\n"
      ],
      "execution_count": 44,
      "outputs": [
        {
          "output_type": "execute_result",
          "data": {
            "text/plain": [
              "(826739, 180)"
            ]
          },
          "metadata": {
            "tags": []
          },
          "execution_count": 44
        }
      ]
    },
    {
      "cell_type": "code",
      "metadata": {
        "colab": {
          "base_uri": "https://localhost:8080/"
        },
        "id": "FTzeCasz00tp",
        "outputId": "635970fd-95c4-4f16-93f2-01e695a54757"
      },
      "source": [
        "y.shape\n"
      ],
      "execution_count": 45,
      "outputs": [
        {
          "output_type": "execute_result",
          "data": {
            "text/plain": [
              "(826739, 10)"
            ]
          },
          "metadata": {
            "tags": []
          },
          "execution_count": 45
        }
      ]
    },
    {
      "cell_type": "code",
      "metadata": {
        "id": "xoUFJ_CU03ZP"
      },
      "source": [
        "x_train, x_test, y_train, y_test = train_test_split(x, y, test_size=0.2, random_state=0)\n"
      ],
      "execution_count": 46,
      "outputs": []
    },
    {
      "cell_type": "code",
      "metadata": {
        "colab": {
          "base_uri": "https://localhost:8080/"
        },
        "id": "IROvcxF506bT",
        "outputId": "59cca101-9842-4f4d-d555-6885d158bbe4"
      },
      "source": [
        "from tensorflow.keras.layers import LSTM, Activation, Dense, Dropout, Input, Embedding\n",
        "from tensorflow.keras.models import Sequential\n",
        "from tensorflow.keras.layers import Dense, Activation, Embedding, Flatten, GlobalMaxPool1D, Dropout, Conv1D\n",
        "from tensorflow.keras.callbacks import ReduceLROnPlateau, EarlyStopping, ModelCheckpoint\n",
        "from tensorflow.keras.losses import binary_crossentropy\n",
        "from tensorflow.keras.optimizers import Adam\n",
        "from tensorflow.keras.models import Model\n",
        "\n",
        "filter_length = 300\n",
        "\n",
        "model = Sequential()\n",
        "model.add(Embedding(max_words, 20, input_length=maxlen))\n",
        "model.add(Dropout(0.1))\n",
        "model.add(Conv1D(filter_length, 3, padding='valid', activation='relu', strides=1))\n",
        "model.add(GlobalMaxPool1D())\n",
        "model.add(Dense(num_classes))\n",
        "model.add(Activation('sigmoid'))\n",
        "\n",
        "model.compile(optimizer='adam', loss='binary_crossentropy', metrics=['categorical_accuracy'])\n",
        "model.summary()"
      ],
      "execution_count": 47,
      "outputs": [
        {
          "output_type": "stream",
          "text": [
            "Model: \"sequential\"\n",
            "_________________________________________________________________\n",
            "Layer (type)                 Output Shape              Param #   \n",
            "=================================================================\n",
            "embedding (Embedding)        (None, 180, 20)           100000    \n",
            "_________________________________________________________________\n",
            "dropout (Dropout)            (None, 180, 20)           0         \n",
            "_________________________________________________________________\n",
            "conv1d (Conv1D)              (None, 178, 300)          18300     \n",
            "_________________________________________________________________\n",
            "global_max_pooling1d (Global (None, 300)               0         \n",
            "_________________________________________________________________\n",
            "dense (Dense)                (None, 10)                3010      \n",
            "_________________________________________________________________\n",
            "activation (Activation)      (None, 10)                0         \n",
            "=================================================================\n",
            "Total params: 121,310\n",
            "Trainable params: 121,310\n",
            "Non-trainable params: 0\n",
            "_________________________________________________________________\n"
          ],
          "name": "stdout"
        }
      ]
    },
    {
      "cell_type": "code",
      "metadata": {
        "colab": {
          "base_uri": "https://localhost:8080/"
        },
        "id": "iMJAoor31HbS",
        "outputId": "e3016153-7bf4-42f6-e51c-5997bb13dfc3"
      },
      "source": [
        "history=model.fit(x_train,y_train,epochs=7,validation_split=0.2)\n"
      ],
      "execution_count": 48,
      "outputs": [
        {
          "output_type": "stream",
          "text": [
            "Epoch 1/7\n",
            "16535/16535 [==============================] - 97s 6ms/step - loss: 0.1245 - categorical_accuracy: 0.7385 - val_loss: 0.1123 - val_categorical_accuracy: 0.7637\n",
            "Epoch 2/7\n",
            "16535/16535 [==============================] - 97s 6ms/step - loss: 0.1106 - categorical_accuracy: 0.7658 - val_loss: 0.1096 - val_categorical_accuracy: 0.7663\n",
            "Epoch 3/7\n",
            "16535/16535 [==============================] - 96s 6ms/step - loss: 0.1083 - categorical_accuracy: 0.7698 - val_loss: 0.1099 - val_categorical_accuracy: 0.7649\n",
            "Epoch 4/7\n",
            "16535/16535 [==============================] - 96s 6ms/step - loss: 0.1071 - categorical_accuracy: 0.7721 - val_loss: 0.1110 - val_categorical_accuracy: 0.7640\n",
            "Epoch 5/7\n",
            "16535/16535 [==============================] - 97s 6ms/step - loss: 0.1062 - categorical_accuracy: 0.7742 - val_loss: 0.1081 - val_categorical_accuracy: 0.7670\n",
            "Epoch 6/7\n",
            "16535/16535 [==============================] - 96s 6ms/step - loss: 0.1054 - categorical_accuracy: 0.7753 - val_loss: 0.1080 - val_categorical_accuracy: 0.7675\n",
            "Epoch 7/7\n",
            "16535/16535 [==============================] - 96s 6ms/step - loss: 0.1050 - categorical_accuracy: 0.7766 - val_loss: 0.1080 - val_categorical_accuracy: 0.7684\n"
          ],
          "name": "stdout"
        }
      ]
    },
    {
      "cell_type": "code",
      "metadata": {
        "id": "RpsCi4xwPxm4"
      },
      "source": [
        ""
      ],
      "execution_count": 48,
      "outputs": []
    },
    {
      "cell_type": "code",
      "metadata": {
        "colab": {
          "base_uri": "https://localhost:8080/"
        },
        "id": "JgEyY4lt1LGM",
        "outputId": "52e58de5-390c-4944-d1e5-2c2014a2bee7"
      },
      "source": [
        "y_pred = model.predict_classes(x_test)\n"
      ],
      "execution_count": 49,
      "outputs": [
        {
          "output_type": "stream",
          "text": [
            "WARNING:tensorflow:From <ipython-input-49-bae1a118294d>:1: Sequential.predict_classes (from tensorflow.python.keras.engine.sequential) is deprecated and will be removed after 2021-01-01.\n",
            "Instructions for updating:\n",
            "Please use instead:* `np.argmax(model.predict(x), axis=-1)`,   if your model does multi-class classification   (e.g. if it uses a `softmax` last-layer activation).* `(model.predict(x) > 0.5).astype(\"int32\")`,   if your model does binary classification   (e.g. if it uses a `sigmoid` last-layer activation).\n"
          ],
          "name": "stdout"
        }
      ]
    },
    {
      "cell_type": "code",
      "metadata": {
        "colab": {
          "base_uri": "https://localhost:8080/"
        },
        "id": "r9MrUhKk1PXs",
        "outputId": "1db47c1d-688a-4936-a698-fb68bbb01f95"
      },
      "source": [
        "y_pred\n"
      ],
      "execution_count": 50,
      "outputs": [
        {
          "output_type": "execute_result",
          "data": {
            "text/plain": [
              "array([3, 0, 1, ..., 9, 9, 0])"
            ]
          },
          "metadata": {
            "tags": []
          },
          "execution_count": 50
        }
      ]
    },
    {
      "cell_type": "code",
      "metadata": {
        "colab": {
          "base_uri": "https://localhost:8080/"
        },
        "id": "F4GsWPrS1RzE",
        "outputId": "53dec742-6317-40b9-e8db-c0693c6932ec"
      },
      "source": [
        "model.evaluate(x_test,y_test)\n"
      ],
      "execution_count": 51,
      "outputs": [
        {
          "output_type": "stream",
          "text": [
            "5168/5168 [==============================] - 12s 2ms/step - loss: 0.1081 - categorical_accuracy: 0.7687\n"
          ],
          "name": "stdout"
        },
        {
          "output_type": "execute_result",
          "data": {
            "text/plain": [
              "[0.1081254705786705, 0.7687241435050964]"
            ]
          },
          "metadata": {
            "tags": []
          },
          "execution_count": 51
        }
      ]
    },
    {
      "cell_type": "code",
      "metadata": {
        "id": "h1cW-C1uYbtj"
      },
      "source": [
        "import matplotlib.pyplot as plt\n"
      ],
      "execution_count": 52,
      "outputs": []
    },
    {
      "cell_type": "code",
      "metadata": {
        "colab": {
          "base_uri": "https://localhost:8080/",
          "height": 545
        },
        "id": "Ele71Vy61UMK",
        "outputId": "3b4568d3-d013-4da8-cc92-444ab807fea9"
      },
      "source": [
        "# Plot results\n",
        "acc = history.history['categorical_accuracy']\n",
        "val_acc = history.history['val_categorical_accuracy']\n",
        "loss = history.history['loss']\n",
        "val_loss = history.history['val_loss']\n",
        "\n",
        "epochs = range(1, len(acc)+1)\n",
        "\n",
        "plt.plot(epochs, acc, 'g', label='Training accuracy')\n",
        "plt.plot(epochs, val_acc, 'r', label='Validation accuracy')\n",
        "plt.title('Training and validation accuracy')\n",
        "plt.legend()\n",
        "\n",
        "plt.figure()\n",
        "\n",
        "plt.plot(epochs, loss, 'g', label='Training loss')\n",
        "plt.plot(epochs, val_loss, 'r', label='Validation loss')\n",
        "plt.title('Training and validation loss')\n",
        "plt.legend()\n",
        "\n",
        "plt.show()"
      ],
      "execution_count": 53,
      "outputs": [
        {
          "output_type": "display_data",
          "data": {
            "image/png": "[encoded data removed]",
            "text/plain": [
              "<Figure size 432x288 with 1 Axes>"
            ]
          },
          "metadata": {
            "tags": [],
            "needs_background": "light"
          }
        },
        {
          "output_type": "display_data",
          "data": {
            "image/png": "[encoded data removed]",
            "text/plain": [
              "<Figure size 432x288 with 1 Axes>"
            ]
          },
          "metadata": {
            "tags": [],
            "needs_background": "light"
          }
        }
      ]
    },
    {
      "cell_type": "code",
      "metadata": {
        "id": "do5r0hztIMcq"
      },
      "source": [
        "y_pred = model.predict(x_test)\r\n"
      ],
      "execution_count": 64,
      "outputs": []
    },
    {
      "cell_type": "code",
      "metadata": {
        "id": "NBqPPV4-P_-R"
      },
      "source": [
        "y_pred [y_pred > 0.5] = 1.0\r\n",
        "y_pred[y_pred <= 0.5] = 0.0"
      ],
      "execution_count": 65,
      "outputs": []
    },
    {
      "cell_type": "code",
      "metadata": {
        "colab": {
          "base_uri": "https://localhost:8080/"
        },
        "id": "LbY-8d0f_fOL",
        "outputId": "33d04578-10e0-49e5-d256-024c39768201"
      },
      "source": [
        "y_pred"
      ],
      "execution_count": 66,
      "outputs": [
        {
          "output_type": "execute_result",
          "data": {
            "text/plain": [
              "array([[0., 0., 0., ..., 0., 0., 0.],\n",
              "       [1., 0., 0., ..., 0., 0., 0.],\n",
              "       [0., 1., 0., ..., 0., 0., 0.],\n",
              "       ...,\n",
              "       [0., 0., 0., ..., 0., 0., 1.],\n",
              "       [0., 0., 0., ..., 0., 0., 1.],\n",
              "       [1., 0., 0., ..., 0., 0., 0.]], dtype=float32)"
            ]
          },
          "metadata": {
            "tags": []
          },
          "execution_count": 66
        }
      ]
    },
    {
      "cell_type": "code",
      "metadata": {
        "id": "n4YGZBvR_fPm"
      },
      "source": [
        "from  sklearn.metrics import roc_auc_score\r\n",
        "auc = roc_auc_score(y_test,y_pred)"
      ],
      "execution_count": 67,
      "outputs": []
    },
    {
      "cell_type": "code",
      "metadata": {
        "colab": {
          "base_uri": "https://localhost:8080/"
        },
        "id": "LfSmF_l6_fXN",
        "outputId": "3122b972-caca-4f89-c7dc-2cfe4e395bb0"
      },
      "source": [
        "auc"
      ],
      "execution_count": 68,
      "outputs": [
        {
          "output_type": "execute_result",
          "data": {
            "text/plain": [
              "0.8550927615964115"
            ]
          },
          "metadata": {
            "tags": []
          },
          "execution_count": 68
        }
      ]
    },
    {
      "cell_type": "code",
      "metadata": {
        "id": "xLBy4ia2_tbB"
      },
      "source": [
        "pred = pd.DataFrame(y_pred)\r\n"
      ],
      "execution_count": 69,
      "outputs": []
    },
    {
      "cell_type": "code",
      "metadata": {
        "id": "39cCNgZJ_tcw"
      },
      "source": [
        "#exporting predictions to predictions file\r\n",
        "pred.to_csv('stack-over-flow-predctions.csv',index=False)"
      ],
      "execution_count": 72,
      "outputs": []
    },
    {
      "cell_type": "code",
      "metadata": {
        "id": "Qva3SoHfHiuh"
      },
      "source": [
        ""
      ],
      "execution_count": null,
      "outputs": []
    }
  ]
}